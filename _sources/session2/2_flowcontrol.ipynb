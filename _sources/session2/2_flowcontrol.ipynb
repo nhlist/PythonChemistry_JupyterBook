{
 "cells": [
  {
   "cell_type": "code",
   "execution_count": 0,
   "metadata": {},
   "outputs": [],
   "source": [
    "# Define helper function\n",
    "from pytest import approx\n",
    "def error_message(actual, expected):\n",
    "    return f'Actual {actual} != Expected {expected}'"
   ]
  },
  {
   "attachments": {},
   "cell_type": "markdown",
   "metadata": {},
   "source": [
    "# Session 2 - Flow control"
   ]
  },
  {
   "attachments": {},
   "cell_type": "markdown",
   "metadata": {},
   "source": [
    "Now we are going to practice branching and iteration\n",
    "* branching (interpreter steps through from top to bottom)\n",
    "    - `if`  : if condition is true, run this block of code\n",
    "    - `elif`    : else if these conditions are true, run this block of code\n",
    "    - `else`    : if none of the above are true, run this block of code\n",
    "* iteration\n",
    "    - `for`     : known number of iterations, can end early with a `break` condition\n",
    "    - `while`   : unbounded number of iterations but know a `break` condition "
   ]
  },
  {
   "cell_type": "code",
   "execution_count": 0,
   "metadata": {},
   "outputs": [],
   "source": [
    "# Let us start by iterating over strings. \n",
    "\n",
    "string = \"Programmming_in_Python_rocks\"\n",
    "\n",
    "# write a \"for\" loop using the \"range\" function that prints each character in string\n",
    "\n",
    "for index in range(len(string)):\n",
    "    print(string[index])\n",
    "\n"
   ]
  },
  {
   "cell_type": "code",
   "execution_count": 0,
   "metadata": {},
   "outputs": [],
   "source": [
    "# Let us now instead try to iterate over the characters in the string directly and print each of them\n",
    "for char in string:\n",
    "    print(char)"
   ]
  },
  {
   "cell_type": "code",
   "execution_count": 0,
   "metadata": {},
   "outputs": [],
   "source": [
    "# We can also use loops inside loops to print number sequences like\n",
    "# 0\n",
    "# 01\n",
    "# ...\n",
    "# 0123456\n",
    "# and so on\n",
    "\n",
    "for i in range(10):\n",
    "    for j in range(i+1):\n",
    "        print(j, end='')\n",
    "    print()"
   ]
  },
  {
   "cell_type": "code",
   "execution_count": 0,
   "metadata": {},
   "outputs": [],
   "source": [
    "# Modify the example to print only the even numbers.\n",
    "# The mod (%) operator may come in handy!\n",
    "\n",
    "for i in range(0, 10, 2):\n",
    "    for j in range(i+1):\n",
    "        if j % 2 == 0:\n",
    "            print(j, end='')\n",
    "    print()\n"
   ]
  },
  {
   "cell_type": "code",
   "execution_count": 0,
   "metadata": {},
   "outputs": [],
   "source": [
    "# Now we are interested in knowing the numbers of 'P' in the string, \n",
    "# so you need to write code that will output (print) that using the variable p_count. \n",
    "# Might be helpful to recall the comparison operator '=='\n",
    "\n",
    "string = \"Programmming_in_Python_rocks\"\n",
    "\n",
    "p_count = 0\n",
    "for character in string:\n",
    "    if character == 'P':\n",
    "        p_count += 1\n",
    "\n"
   ]
  },
  {
   "cell_type": "code",
   "execution_count": 0,
   "metadata": {},
   "outputs": [],
   "source": [
    "assert p_count == 2, error_message(p_count, 2)"
   ]
  },
  {
   "cell_type": "code",
   "execution_count": 0,
   "metadata": {},
   "outputs": [],
   "source": [
    "# Rewrite the following while loop to a for loop\n",
    "\n",
    "letters = \"aefhilmnorsxAEFHILMNORSX\"\n",
    "word = input(\"I will cheer for you! Enter a word: \")\n",
    "times = int(input(\"Enthusiasm level (1-10): \"))\n",
    "\n",
    "# While loop example to reproduce with for loop\n",
    "i = 0\n",
    "while i < len(word):\n",
    "    char = word[i]\n",
    "    if char in letters:\n",
    "        print(\"Give me an \" + char + \"! \" + char)\n",
    "    else:\n",
    "        print(\"Give me a  \" + char + \"! \" + char)\n",
    "    i += 1\n",
    "print(\"What does that spell?\")\n",
    "for i in range(times):\n",
    "    print(word, \"!\")"
   ]
  },
  {
   "cell_type": "code",
   "execution_count": 0,
   "metadata": {},
   "outputs": [],
   "source": [
    "for char in word:\n",
    "    if char in letters:\n",
    "        print(\"Give me an \" + char + \"! \" + char)\n",
    "    else:\n",
    "        print(\"Give me a  \" + char + \"! \" + char)\n",
    "print(\"What does that spell?\")\n",
    "for i in range(times):\n",
    "    print(word, \"!\")\n"
   ]
  },
  {
   "cell_type": "code",
   "execution_count": 0,
   "metadata": {},
   "outputs": [],
   "source": [
    "# We can also loop over lists of numbers to find the max number!\n",
    "# You will learn more about lists in lecture 4. For now, think about them as objects you can iterate over like strings (also called iterables).\n",
    "\n",
    "numbers = [1, 4, 12, 41, 3, 8, 142, 2, 5]\n",
    "max_number = 0\n",
    "\n",
    "# Write a loop that checks every number in the list and see if it is bigger than previous max_number\n",
    "\n",
    "for number in numbers:\n",
    "    if number > max_number:\n",
    "        max_number = number\n",
    "print(max_number)\n"
   ]
  },
  {
   "cell_type": "code",
   "execution_count": 0,
   "metadata": {},
   "outputs": [],
   "source": [
    "assert max_number == 142, error_message(max_number, 142)"
   ]
  },
  {
   "cell_type": "code",
   "execution_count": 0,
   "metadata": {},
   "outputs": [],
   "source": [
    "# Computers are great at doing calculations. Write a piece of code that can print the 10 times multiplication table.\n",
    "# Here you want to create the entire line of the table before invoking the print function - because print automatically adds a newline\n",
    "\n",
    "for i in range(1, 11):\n",
    "    row = ''\n",
    "    for j in range(1, 11):\n",
    "        row += f'{j*i:4d} |'\n",
    "        if j < 11:\n",
    "            row += ' '\n",
    "    row += '\\n'\n",
    "    print('-'*69, end='\\n')\n",
    "    print(row, end='')\n",
    "\n"
   ]
  },
  {
   "cell_type": "code",
   "execution_count": 0,
   "metadata": {},
   "outputs": [],
   "source": [
    "# Should look something like this\n",
    "\"\"\"\n",
    "---------------------------------------------------------------------\n",
    "   1 |    2 |    3 |    4 |    5 |    6 |    7 |    8 |    9 |   10 | \n",
    "---------------------------------------------------------------------\n",
    "   2 |    4 |    6 |    8 |   10 |   12 |   14 |   16 |   18 |   20 | \n",
    "---------------------------------------------------------------------\n",
    "   3 |    6 |    9 |   12 |   15 |   18 |   21 |   24 |   27 |   30 | \n",
    "---------------------------------------------------------------------\n",
    "   4 |    8 |   12 |   16 |   20 |   24 |   28 |   32 |   36 |   40 | \n",
    "---------------------------------------------------------------------\n",
    "   5 |   10 |   15 |   20 |   25 |   30 |   35 |   40 |   45 |   50 | \n",
    "---------------------------------------------------------------------\n",
    "   6 |   12 |   18 |   24 |   30 |   36 |   42 |   48 |   54 |   60 | \n",
    "---------------------------------------------------------------------\n",
    "   7 |   14 |   21 |   28 |   35 |   42 |   49 |   56 |   63 |   70 | \n",
    "---------------------------------------------------------------------\n",
    "   8 |   16 |   24 |   32 |   40 |   48 |   56 |   64 |   72 |   80 | \n",
    "---------------------------------------------------------------------\n",
    "   9 |   18 |   27 |   36 |   45 |   54 |   63 |   72 |   81 |   90 | \n",
    "---------------------------------------------------------------------\n",
    "  10 |   20 |   30 |   40 |   50 |   60 |   70 |   80 |   90 |  100 |\n",
    " \"\"\""
   ]
  },
  {
   "cell_type": "code",
   "execution_count": 0,
   "metadata": {},
   "outputs": [],
   "source": [
    "# This time I would like that you insert a \"super\" between \"to\" and \"hero\" in our motto string to create a super_string\n",
    "# Later on you will learn smarter ways of doing this, but for now let us practice branching and loops.\n",
    "\n",
    "string = 'From zero to hero'\n",
    "super_string = \"\"\n",
    "\n",
    "not_yet_injected = True\n",
    "\n",
    "for i in range(len(string)):\n",
    "    if i > 0 and not_yet_injected:\n",
    "        if string[i] == \"o\" and string[i-1] == \"t\":\n",
    "            print(\"We located 'to' and are now ready to inject ' super'\")\n",
    "            super_string += string[i] + ' super'\n",
    "            not_yet_injected = False\n",
    "            continue\n",
    "    super_string += string[i]\n",
    "print(super_string)\n"
   ]
  },
  {
   "cell_type": "code",
   "execution_count": 0,
   "metadata": {},
   "outputs": [],
   "source": [
    "assert super_string == \"From zero to super hero\", error_message(super_string, \"From zero to super hero\")"
   ]
  },
  {
   "attachments": {},
   "cell_type": "markdown",
   "metadata": {},
   "source": [
    "## Now to while loops\n",
    "Suppose that we want to know the square root of some positive number (`value`) but do not have the math.sqrt() function available.\n",
    "That is, we want to calculate $x$, where $x^2 = value$\n",
    "\n",
    "The value of $x$ can be computed as the roots (=zero crossings) of the function\n",
    "$f(x) = x^2-value$\n",
    "\n",
    "We can use the so-called bisection method to get an approximate value of `x`. \n",
    "\n",
    "https://en.wikipedia.org/wiki/Bisection_method\n",
    "\n",
    "This method approximates the root of a continous function by repeatedly dividing the interval that bounds the root at the midpoint.\n",
    "\n",
    "**Preparation for the algorithm**\n",
    "1. Define the interval. Here we know that $x>0$ and $x\\le value$. That is `low_bound = 0` and `high_bound = value` \n",
    "2. Set up a guess corresponding to the midpoint of the interval, i.e., `guess = (low_bound + high_bound) / 2`.  \n",
    "\n",
    "**Run the algorithm**\n",
    "1. Calculate `guess * guess`\n",
    "2. If `f(guess)`is close enough (use `threshold`) to zero, stop and say that `guess` is the approximate `x`\n",
    "3. If not, update the bounding interval (i.e., `low_bound` and `high_bound`).\n",
    "    - if guess ** 2. smaller than `x`, we can update `low_bound` to the value of `guess``\n",
    "    - else if guess ** 2. is greater than or equal to high_bound, we can update `high_bound` to the value of `guess`\n",
    "3. Then make a new guess by calculating the midpoint of the new bounding interval\n",
    "4. Using the new guess, repeat the cycle"
   ]
  },
  {
   "attachments": {},
   "cell_type": "markdown",
   "metadata": {},
   "source": [
    "![bisection_method](bisection_method.png)"
   ]
  },
  {
   "cell_type": "code",
   "execution_count": 0,
   "metadata": {},
   "outputs": [],
   "source": [
    "# Implement the bisection method that calculates the square root of 10 to within a threshold of 1e-6.\n",
    "# Print the value and the number of iterations it took to reach the value within the desired threshold.\n",
    "\n",
    "threshold = 1e-6\n",
    "value = 10.\n",
    "num_iterations = 0\n",
    "\n",
    "low_bound = 0.0\n",
    "high_bound = value\n",
    "guess = (high_bound + low_bound) / 2.0\n",
    "\n",
    "while abs(guess**2. - value) >= threshold:\n",
    "    if guess ** 2. < value:\n",
    "        # Look only in the upper half\n",
    "        low_bound = guess\n",
    "    else:\n",
    "        high_bound = guess\n",
    "    guess = (high_bound + low_bound) / 2.0\n",
    "    num_iterations += 1\n",
    "\n"
   ]
  },
  {
   "cell_type": "code",
   "execution_count": 0,
   "metadata": {},
   "outputs": [],
   "source": [
    "import math\n",
    "assert guess == approx(math.sqrt(value)), error_message(guess, math.sqrt(value))"
   ]
  },
  {
   "attachments": {},
   "cell_type": "markdown",
   "metadata": {},
   "source": [
    "## Maze challenge\n",
    "\n",
    "In this exercise, your task is to write an algorithm that will take you through a maze.\n",
    "* Several pre-defined functions are at your disposal:\n",
    "    - `is_right_clear()` - checks whether the field to the right is clear or not (wall)\n",
    "    - `is_left_clear()` - checks whether the field to the left is clear or not (wall)\n",
    "    - `is_front_clear()`- checks whether the field in front is clear or not (wall) \n",
    "    - `is_running()`- checks whether a wall has been hit or the maze was solved \n",
    "    - `turn_right()` - changes your direction to the right\n",
    "    - `turn_left()`- changes your direction to the left\n",
    "    - `move_forward()`- move you forward in the current direction\n",
    "* You need to combine these functions in a control flow\n",
    "* The entrance to the maze starts at the yellow square and the exit is marked by the green square\n",
    "* An already given animation functionality is \"wrapped\" around the the control flow (for you to write) so that you can see whether you made it\n",
    "\n",
    "**NOTE**\n",
    "* Should you end up in an infinite loop, you need to manually stop the relevant code block by pressing the \"stop\" bottom (same location as the play bottom)."
   ]
  },
  {
   "cell_type": "code",
   "execution_count": 0,
   "metadata": {},
   "outputs": [],
   "source": [
    "%matplotlib qt\n",
    "from maze import *\n",
    "\n",
    "# You can change between MAZE0, MAZE1 and MAZE2 for increasing difficulty\n",
    "reset_start(MAZE0)\n",
    "while is_running():\n",
    "    if is_right_clear():\n",
    "        turn_right()\n",
    "        move_forward()\n",
    "    elif is_front_clear():\n",
    "        move_forward()\n",
    "    else:\n",
    "        turn_left()\n"
   ]
  }
 ],
 "metadata": {
  "kernelspec": {
   "display_name": "bb1000",
   "language": "python",
   "name": "python3"
  },
  "language_info": {
   "codemirror_mode": {
    "name": "ipython",
    "version": 3
   },
   "file_extension": ".py",
   "mimetype": "text/x-python",
   "name": "python",
   "nbconvert_exporter": "python",
   "pygments_lexer": "ipython3",
   "version": "3.12.0"
  },
  "orig_nbformat": 4
 },
 "nbformat": 4,
 "nbformat_minor": 2
}