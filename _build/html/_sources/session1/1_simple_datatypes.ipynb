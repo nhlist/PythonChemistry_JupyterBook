{
 "cells": [
  {
   "cell_type": "code",
   "execution_count": 0,
   "metadata": {},
   "outputs": [],
   "source": [
    "# Define helper function\n",
    "from pytest import approx\n",
    "def error_message(actual, expected):\n",
    "    return f'Actual {actual} != Expected {expected}'"
   ]
  },
  {
   "attachments": {},
   "cell_type": "markdown",
   "metadata": {},
   "source": [
    "# Session 1 - Simple data types\n",
    "\n",
    "Today, we will get some practice in dealing with:\n",
    "\n",
    "* primitive data types (`int, float, bool, None, string`)\n",
    "* binding them to a variable using the assignment operator (`=`)\n",
    "* try to perform simple operations on them (`+,-,/,*,//,**`)\n",
    "* printing them using the `print` function\n",
    "* Use numbers in boolean expressions through comparions (`==, !=, >, <`)\n",
    "* play with string indexing (`string_variable[<index>]`)\n",
    "\n",
    "The hashtag # in the beginning of a line means that the line is commented-out (its color is different as you see). In other words, this line will not be read by the Python interpreter. "
   ]
  },
  {
   "cell_type": "markdown",
   "metadata": {},
   "source": [
    "Let us start with simple numeric data types (`int`, `float`)"
   ]
  },
  {
   "cell_type": "code",
   "execution_count": 0,
   "metadata": {},
   "outputs": [],
   "source": [
    "# Set the value of 'integer_one' to the integer value one\n",
    "integer_one = 1 "
   ]
  },
  {
   "cell_type": "code",
   "execution_count": 0,
   "metadata": {},
   "outputs": [],
   "source": [
    "# This piece of code uses assertions to check that your newly defined variable has the correct type and value\n",
    "assert type(integer_one) == int, error_message(type(integer_one).__name__, int)\n",
    "assert integer_one == 1, error_message(integer_one, 1)"
   ]
  },
  {
   "cell_type": "code",
   "execution_count": 0,
   "metadata": {},
   "outputs": [],
   "source": [
    "# Write a print statement to print the value of integer_one\n",
    "print(integer_one)"
   ]
  },
  {
   "cell_type": "code",
   "execution_count": 0,
   "metadata": {},
   "outputs": [],
   "source": [
    "# Set the value of 'float_one' to the float value one\n",
    "float_one = 1. "
   ]
  },
  {
   "cell_type": "code",
   "execution_count": 0,
   "metadata": {},
   "outputs": [],
   "source": [
    "assert type(float_one) == float, error_message(type(float_one).__name__, float)\n",
    "assert float_one == 1., error_message(float_one, 1.0)"
   ]
  },
  {
   "cell_type": "markdown",
   "metadata": {},
   "source": [
    "Now let us continue to see the `bool` data type in play, which can either be `True` or `False`"
   ]
  },
  {
   "cell_type": "code",
   "execution_count": 0,
   "metadata": {},
   "outputs": [],
   "source": [
    "# Set the value of 'bool_true' to be true\n",
    "bool_true = True "
   ]
  },
  {
   "cell_type": "code",
   "execution_count": 0,
   "metadata": {},
   "outputs": [],
   "source": [
    "assert type(bool_true) == bool, error_message(type(bool_true).__name__, bool)\n",
    "assert bool_true == True, error_message(bool_true, True)"
   ]
  },
  {
   "cell_type": "code",
   "execution_count": 0,
   "metadata": {},
   "outputs": [],
   "source": [
    "# Set the value of 'none_type' to 'nothing'\n",
    "none_type = None "
   ]
  },
  {
   "cell_type": "code",
   "execution_count": 0,
   "metadata": {},
   "outputs": [],
   "source": [
    "assert none_type is None, error_message(type(none_type).__name__, None)"
   ]
  },
  {
   "attachments": {},
   "cell_type": "markdown",
   "metadata": {},
   "source": [
    "## Operators\n",
    "\n",
    "Things become exciting when we start to do operations on the data.\n",
    "\n",
    "The format of an expression is: <object><operator><object>\n",
    "\n",
    "* The expression has a value and a type.\n",
    "* Parentheses can be used to put precedence to a given operation (just as in calculus)\n",
    "\n",
    "Examples of operators on the standard int and float data types:\n",
    "* ```+, -, *, /, **, %```: (addition, subtraction, multiplication, divide, power, modulus)"
   ]
  },
  {
   "cell_type": "code",
   "execution_count": 0,
   "metadata": {},
   "outputs": [],
   "source": [
    "# Add the missing operator, replace the ## symbol\n",
    "nine = 5 + 4"
   ]
  },
  {
   "cell_type": "code",
   "execution_count": 0,
   "metadata": {},
   "outputs": [],
   "source": [
    "assert nine == 9, error_message(nine, 9)"
   ]
  },
  {
   "cell_type": "code",
   "execution_count": 0,
   "metadata": {},
   "outputs": [],
   "source": [
    "# Add the missing operator, replace the ## symbol\n",
    "five = 8 - 3"
   ]
  },
  {
   "cell_type": "code",
   "execution_count": 0,
   "metadata": {},
   "outputs": [],
   "source": [
    "assert five == 5, error_message(five, 5)"
   ]
  },
  {
   "cell_type": "code",
   "execution_count": 0,
   "metadata": {},
   "outputs": [],
   "source": [
    "# Add the missing operator, replace the ## symbol\n",
    "four = 2 * 2\n"
   ]
  },
  {
   "cell_type": "code",
   "execution_count": 0,
   "metadata": {},
   "outputs": [],
   "source": [
    "assert four == 4, error_message(four, 4)"
   ]
  },
  {
   "cell_type": "code",
   "execution_count": 0,
   "metadata": {},
   "outputs": [],
   "source": [
    "# Add the missing operator, replace the ## symbol\n",
    "two = 4 - 2"
   ]
  },
  {
   "cell_type": "code",
   "execution_count": 0,
   "metadata": {},
   "outputs": [],
   "source": [
    "assert two == 2, error_message(two, 2)"
   ]
  },
  {
   "cell_type": "markdown",
   "metadata": {},
   "source": [
    "Remember that there are two ways to divide numbers, normal division (`/`) and integer division (`//`)"
   ]
  },
  {
   "cell_type": "code",
   "execution_count": 0,
   "metadata": {},
   "outputs": [],
   "source": [
    "# Correct the operator\n",
    "three = 10 / 3"
   ]
  },
  {
   "cell_type": "code",
   "execution_count": 0,
   "metadata": {},
   "outputs": [],
   "source": [
    "assert three == 3, error_message(three, 3)\n",
    "assert type(three) == int, \"expected an int not a float\""
   ]
  },
  {
   "cell_type": "code",
   "execution_count": 0,
   "metadata": {},
   "outputs": [],
   "source": [
    "# Correect the operator\n",
    "two_and_a_half = 5 // 2"
   ]
  },
  {
   "cell_type": "code",
   "execution_count": 0,
   "metadata": {},
   "outputs": [],
   "source": [
    "assert two_and_a_half == 2.5, error_message(two_and_a_half, 2.5)\n",
    "assert type(two_and_a_half) == float, \"expected a float not an in\""
   ]
  },
  {
   "cell_type": "markdown",
   "metadata": {},
   "source": [
    "## Operator precedence\n",
    "Remember that expressions are executed (read) from left --> right, with the following operator precerence:\n",
    "* power: **\n",
    "* Multiplication: *\n",
    "* Division: /,  //\n",
    "* Addition/Subtraction: +/-\n",
    "\n",
    "Parentheses can be used to explicitly define precedence"
   ]
  },
  {
   "cell_type": "code",
   "execution_count": 0,
   "metadata": {},
   "outputs": [],
   "source": [
    "# Use parentheses to fix the following equations\n",
    "zero = 1 + 1 * 0"
   ]
  },
  {
   "cell_type": "code",
   "execution_count": 0,
   "metadata": {},
   "outputs": [],
   "source": [
    "assert zero == 0, error_message(zero, 0)"
   ]
  },
  {
   "cell_type": "code",
   "execution_count": 0,
   "metadata": {},
   "outputs": [],
   "source": [
    "# Use parentheses to fix the following equations\n",
    "two = 2 ** 3 / 1 + 1 * 2"
   ]
  },
  {
   "cell_type": "code",
   "execution_count": 0,
   "metadata": {},
   "outputs": [],
   "source": [
    "assert two == 2, error_message(two, 2)"
   ]
  },
  {
   "cell_type": "code",
   "execution_count": 0,
   "metadata": {},
   "outputs": [],
   "source": [
    "# Use parentheses to fix the following equations\n",
    "nine = 3 ** 1 * 2"
   ]
  },
  {
   "cell_type": "code",
   "execution_count": 0,
   "metadata": {},
   "outputs": [],
   "source": [
    "assert nine == 9, error_message(nine, 9) "
   ]
  },
  {
   "cell_type": "code",
   "execution_count": 0,
   "metadata": {},
   "outputs": [],
   "source": [
    "# Use parentheses to fix the following equations\n",
    "three = 18 // (2 * 3)"
   ]
  },
  {
   "cell_type": "code",
   "execution_count": 0,
   "metadata": {},
   "outputs": [],
   "source": [
    "assert three == 3, error_message(three, 3) "
   ]
  },
  {
   "attachments": {},
   "cell_type": "markdown",
   "metadata": {},
   "source": [
    "### With the flexibility comes some ugly features. Python allows us to mix int and floats in expressions. \n",
    "So be careful! \n",
    "What type will the expression be?\n",
    "Different versions of Python will do different things in certain cases.\n",
    "\n",
    "* In Python 3, integer division will be evaluated to a float\n",
    "* In Python 2, integer division will be evaluated to an integer and therefore floored (rounded down to nearest integer value)\n",
    "\n",
    "Remember that you can use `type` to check the data type."
   ]
  },
  {
   "cell_type": "code",
   "execution_count": 0,
   "metadata": {},
   "outputs": [],
   "source": [
    "# If necessary, correct the following expression to yield an integer.\n",
    "seven = 3 + 4."
   ]
  },
  {
   "cell_type": "code",
   "execution_count": 0,
   "metadata": {},
   "outputs": [],
   "source": [
    "assert seven == 7\n",
    "assert type(seven) == int, error_message(type(seven).__name__, int)"
   ]
  },
  {
   "cell_type": "code",
   "execution_count": 0,
   "metadata": {},
   "outputs": [],
   "source": [
    "# Correct the following operation to yield a float\n",
    "nine = 3 + 6"
   ]
  },
  {
   "cell_type": "code",
   "execution_count": 0,
   "metadata": {},
   "outputs": [],
   "source": [
    "assert type(nine) == float, error_message(type(nine).__name__, float)"
   ]
  },
  {
   "cell_type": "code",
   "execution_count": 0,
   "metadata": {},
   "outputs": [],
   "source": [
    "# Check the value and type of the following divisions\n",
    "divisor_float = 3.0 / 2.0\n",
    "divisor_int = 3 / 2\n",
    "divisor_int_forced = int(3 / 2)\n",
    "\n",
    "print(divisor_float, type(divisor_float))\n",
    "print(divisor_int, type(divisor_int))\n",
    "print(divisor_int_forced, type(divisor_int_forced))\n"
   ]
  },
  {
   "attachments": {},
   "cell_type": "markdown",
   "metadata": {},
   "source": [
    "## Using variables to do math\n"
   ]
  },
  {
   "cell_type": "code",
   "execution_count": 0,
   "metadata": {},
   "outputs": [],
   "source": [
    "# Complete the right-hand side of the result_five expression to get the correct result, i.e., replace None\n",
    "number_two = 2\n",
    "number_three = 3\n",
    "result_five = number_two + number_three "
   ]
  },
  {
   "cell_type": "code",
   "execution_count": 0,
   "metadata": {},
   "outputs": [],
   "source": [
    "assert result_five == 5, error_message(result_five, 5)"
   ]
  },
  {
   "cell_type": "code",
   "execution_count": 0,
   "metadata": {},
   "outputs": [],
   "source": [
    "# Complete the 'area_of_square' expression, replace None\n",
    "side_a = 4\n",
    "area_of_square = side_a ** 2 "
   ]
  },
  {
   "cell_type": "code",
   "execution_count": 0,
   "metadata": {},
   "outputs": [],
   "source": [
    "assert side_a == 4, error_message(side_a, 4)\n",
    "assert area_of_square == 16, error_message(area_of_square, 16)"
   ]
  },
  {
   "cell_type": "code",
   "execution_count": 0,
   "metadata": {},
   "outputs": [],
   "source": [
    "# Complete the 'circumference of a circle' formula given you have the radius and PI, replace None\n",
    "\n",
    "PI = 3.14159 # upper case variable names are often used for constants (facts that does not change)\n",
    "radius = 4\n",
    "circumference = 2 * PI * radius "
   ]
  },
  {
   "cell_type": "code",
   "execution_count": 0,
   "metadata": {},
   "outputs": [],
   "source": [
    "assert circumference == approx(25.13272), error_message(circumference, 25.13272)"
   ]
  },
  {
   "attachments": {},
   "cell_type": "markdown",
   "metadata": {},
   "source": [
    "### In this example, you will use the `input()` function to prompt the user for inputs.\n",
    "\n",
    "Suppose you are an accountant and need to compute the remainder available amount for a customer after paying taxes and rent.\n",
    "\n",
    "Prompt the user for three inputs:\n",
    "* Monthly gross salary (SEK) (i.e., before paying taxes)\n",
    "* Tax rate (percentage)\n",
    "* Monthly rent (SEK)\n",
    "\n",
    "Then calculate the remaining allowance.\n",
    "\n",
    "`input()` takes a string as input that will be printed as prompt text to the user. \n",
    "What you type in response to the prompt (in `str` format) will be the output.\n",
    "\n",
    "In other words, if you enter `10`, it will be returned as `\"10\"`, and you will have to convert (or cast) it to data type `float` using `float()`."
   ]
  },
  {
   "cell_type": "code",
   "execution_count": 0,
   "metadata": {},
   "outputs": [],
   "source": [
    "# Accountant example - read in salary, taxrate and rent and calculate the remaining allowance (remainder)\n",
    "\n",
    "salary = float(input(\"Provide your monthly gross salary (SEK): \"))\n",
    "taxrate = float(input(\"Provide your tax rate (percentage): \"))\n",
    "rent = float(input(\"Provide your monthly rent (SEK): \"))\n",
    "\n",
    "tax = salary * taxrate/100.\n",
    "net = salary - tax\n",
    "remainder = net - rent\n",
    "\n",
    "\n",
    "print(\"Remaining amount (SEK):\", remainder)"
   ]
  },
  {
   "cell_type": "code",
   "execution_count": 0,
   "metadata": {},
   "outputs": [],
   "source": [
    "assert type(remainder) == float, error_message(type(remainder), float)"
   ]
  },
  {
   "attachments": {},
   "cell_type": "markdown",
   "metadata": {},
   "source": [
    "## A brief note on memory addresses and rebinding variable names\n",
    "\n",
    "* To access the memory address of an object, we can use the function `id()`.\n",
    "* We can convert the memory address to hex code using the function `hex()`.\n",
    "* The `==` operator compares the value of two objects. Most of the time, you will use this.\n",
    "* The `is` operator compares whether two variables point to the same memory id. \n",
    "    - In other words, if `is` returns `True`, then `==` will necessarily return `True` BUT NOT necessarily the other way around.\n",
    "\n",
    "This block contains demonstrations but you can and should play around with examples yourself.\n"
   ]
  },
  {
   "cell_type": "code",
   "execution_count": 0,
   "metadata": {},
   "outputs": [],
   "source": [
    "PI = 3.14159\n",
    "radius = 2.2\n",
    "area = PI * radius ** 2.\n",
    "\n",
    "radius_id_original = id(radius) \n",
    "\n",
    "print('PI address: ', id(PI), hex(id(PI)))\n",
    "print('radius address: ', radius_id_original, hex(radius_id_original))\n",
    "print('area', id(area), hex(id(area)))"
   ]
  },
  {
   "attachments": {},
   "cell_type": "markdown",
   "metadata": {},
   "source": [
    "If we now reassign a value to the radius variable, we will see that it gets a new memory address."
   ]
  },
  {
   "cell_type": "code",
   "execution_count": 0,
   "metadata": {},
   "outputs": [],
   "source": [
    "radius = 3.0\n",
    "radius_id_new = id(radius)\n",
    "\n",
    "print(hex(radius_id_original), hex(radius_id_new))\n",
    "\n",
    "if radius_id_original != radius_id_new: \n",
    "    print(\"The original and new addresses are different.\")\n",
    "    print(\"This is the correct output.\")\n",
    "\n",
    "else:\n",
    "    print(\"The original and new addresses are the same.\")\n",
    "    print(\"This is the incorrect output. Likely outputted because you forgot to update all cells.\")\n",
    " "
   ]
  },
  {
   "attachments": {},
   "cell_type": "markdown",
   "metadata": {},
   "source": [
    "As you can see, we have lost the handle to the original value for the radius (2.2) when we did the reassignment.\n",
    "\n",
    "Considerations around memory addresses and reassignment will become even more important when we come to compound data types, such as lists.\n",
    "\n",
    "So please keep the `id()`and `hex()` function in mind."
   ]
  },
  {
   "cell_type": "code",
   "execution_count": 0,
   "metadata": {},
   "outputs": [],
   "source": [
    "# Let us compare radius and radius_new using == and is operators.\n",
    "radius = 2.2\n",
    "radius_new = 2.2\n",
    "\n",
    "compare_radius_radius_new_w_eq = radius == radius_new\n",
    "compare_radius_radius_new_w_is = radius is radius_new\n",
    "\n",
    "print(\"The two variables have the same value, therefore radius == radius_new should be True: \", compare_radius_radius_new_w_eq)\n",
    "print(\"The two variables do not have the same memory address, therefore radius is radius_new should be False: \", compare_radius_radius_new_w_is)"
   ]
  },
  {
   "attachments": {},
   "cell_type": "markdown",
   "metadata": {},
   "source": [
    "## Aliasing: assigning one variable to another variable.\n",
    "\n",
    "Aliasing: \n",
    "`new_variable = old_variable`\n",
    "\n",
    "`new_variable` will reference `old_variable` (i.e., point to the memory address of old_variable)\n",
    "\n",
    "If you now reassign `new_variable` to a new value, `new_variable` will get a new memory address and `new_variable` and `old_variable` will no longer point to the same address."
   ]
  },
  {
   "cell_type": "code",
   "execution_count": 0,
   "metadata": {},
   "outputs": [],
   "source": [
    "radius = 3.0\n",
    "radius_new = radius\n",
    "\n",
    "# Below, I use a fancy string formatting to get a nicer output when passed to the print() function (more in lesson 4)\n",
    "# If you cannot wait, you can have a look at https://docs.python.org/3/tutorial/inputoutput.html \n",
    "print(f\"radius:     {radius:5.1f}; address: {hex(id(radius))}\")\n",
    "print(f\"radius_new: {radius_new:5.1f}; address: {hex(id(radius_new))}\")"
   ]
  },
  {
   "cell_type": "code",
   "execution_count": 0,
   "metadata": {},
   "outputs": [],
   "source": [
    "#Let us now change the value of radius and see what happens to radius_new.\n",
    "# Here I am again using the more fancy string format\n",
    "radius = 4.0\n",
    "print(\"Print after updating radius. Note that we did not touch radius_new explicitly.\")\n",
    "print(f\"radius: {radius}, address: {hex(id(radius))}\")\n",
    "print(f\"radius_new: {radius_new}, address: {hex(id(radius_new))}\")"
   ]
  },
  {
   "attachments": {},
   "cell_type": "markdown",
   "metadata": {},
   "source": [
    "## Simple boolean operators\n",
    "The simple boolean operators (`and`, `or`)"
   ]
  },
  {
   "cell_type": "code",
   "execution_count": 0,
   "metadata": {},
   "outputs": [],
   "source": [
    "# Set the correct boolean values to yield True with the AND operator. Replace None.\n",
    "bool_a = True\n",
    "bool_b = True \n",
    "bool_a_AND_bool_b = bool_a and bool_b"
   ]
  },
  {
   "cell_type": "code",
   "execution_count": 0,
   "metadata": {},
   "outputs": [],
   "source": [
    "assert bool_a_AND_bool_b, error_message(bool_a_AND_bool_b, True)"
   ]
  },
  {
   "cell_type": "code",
   "execution_count": 0,
   "metadata": {},
   "outputs": [],
   "source": [
    "# Set the correct boolean values to yield True with the OR operator. Replace None.\n",
    "bool_a = False\n",
    "bool_b = True \n",
    "\n",
    "bool_a_OR_bool_b = bool_a or bool_b"
   ]
  },
  {
   "cell_type": "code",
   "execution_count": 0,
   "metadata": {},
   "outputs": [],
   "source": [
    "assert bool_a_OR_bool_b, error_message(bool_a_OR_bool_b, True)"
   ]
  },
  {
   "cell_type": "markdown",
   "metadata": {},
   "source": [
    "## Comparison and boolean expressions\n",
    "\n",
    "We are going to continue with more practice on data types.\n",
    "\n",
    "Specifically, we will look at:\n",
    "* Comparing number expressions as booleans\n",
    "* Boolean comparisons\n",
    "* Strings and operations on them"
   ]
  },
  {
   "cell_type": "code",
   "execution_count": 0,
   "metadata": {},
   "outputs": [],
   "source": [
    "# Make sure the expressions are correct such that a and b together are True. Replace None\n",
    "a = (5 + 3) == 8 \n",
    "b = (3 + 3) == 6 \n",
    "\n",
    "both_correct = a and b"
   ]
  },
  {
   "cell_type": "code",
   "execution_count": 0,
   "metadata": {},
   "outputs": [],
   "source": [
    "assert both_correct, error_message(both_correct, True)"
   ]
  },
  {
   "cell_type": "code",
   "execution_count": 0,
   "metadata": {},
   "outputs": [],
   "source": [
    "# Given you have these equations\n",
    "equation_a = (5 + 3) == 8\n",
    "equation_b = (3 + 1) == 6\n",
    "\n",
    "# What should the logical operator between them be to yield True? Replace ##\n",
    "one_correct_is_okay = equation_a and equation_b #$a$and$\n",
    "\n",
    "assert one_correct_is_okay, error_message(one_correct_is_okay, True)"
   ]
  },
  {
   "cell_type": "markdown",
   "metadata": {},
   "source": [
    "## Boolean comparisons\n",
    "\n",
    "Now you will get some practice in the expected output from Boolean comparison.\n",
    "\n",
    "Boolean comparison operators\n",
    "* bool1 `and` (`&`) bool2 : are both values True\n",
    "* bool1 `or` (`|`) bool2  : are one of the values True\n",
    "* bool1 `^` bool2 : (exclusive or) are only one of the values True."
   ]
  },
  {
   "cell_type": "code",
   "execution_count": 0,
   "metadata": {},
   "outputs": [],
   "source": [
    "# Given this expression\n",
    "a = True and True\n",
    "\n",
    "# Replace None with either True or False\n",
    "assert a == True "
   ]
  },
  {
   "cell_type": "code",
   "execution_count": 0,
   "metadata": {},
   "outputs": [],
   "source": [
    "# given this formula\n",
    "b = True and False\n",
    "\n",
    "# Replace None with either True or False\n",
    "assert b == False "
   ]
  },
  {
   "cell_type": "code",
   "execution_count": 0,
   "metadata": {},
   "outputs": [],
   "source": [
    "# given this formula\n",
    "c = False or False\n",
    "\n",
    "# Replace None with either True or False\n",
    "assert c == False "
   ]
  },
  {
   "cell_type": "code",
   "execution_count": 0,
   "metadata": {},
   "outputs": [],
   "source": [
    "# given this formula\n",
    "d = False or True\n",
    "\n",
    "# Replace None with either True or False\n",
    "assert d == True "
   ]
  },
  {
   "cell_type": "code",
   "execution_count": 0,
   "metadata": {},
   "outputs": [],
   "source": [
    "# given this formula\n",
    "e = False ^ False\n",
    "\n",
    "# Replace None with either True or False\n",
    "assert e == False "
   ]
  },
  {
   "cell_type": "code",
   "execution_count": 0,
   "metadata": {},
   "outputs": [],
   "source": [
    "# given this formula\n",
    "f = True ^ True\n",
    "\n",
    "# Replace None with either True or False\n",
    "assert f == False "
   ]
  },
  {
   "cell_type": "code",
   "execution_count": 0,
   "metadata": {},
   "outputs": [],
   "source": [
    "# given this formula\n",
    "g = False ^ True\n",
    "\n",
    "# Replace None with either True or False\n",
    "assert g == True "
   ]
  },
  {
   "cell_type": "code",
   "execution_count": 0,
   "metadata": {},
   "outputs": [],
   "source": [
    "h = False and not True\n",
    "\n",
    "# Replace None with either True or False\n",
    "assert h == False "
   ]
  },
  {
   "cell_type": "code",
   "execution_count": 0,
   "metadata": {},
   "outputs": [],
   "source": [
    "i = (True or True) and not (True and True)\n",
    "\n",
    "# Replace None with either True or False\n",
    "assert i == False "
   ]
  },
  {
   "cell_type": "code",
   "execution_count": 0,
   "metadata": {},
   "outputs": [],
   "source": [
    "j = (False or True) and not (False and True)\n",
    "\n",
    "# Replace None with either True or False\n",
    "assert j == True "
   ]
  },
  {
   "cell_type": "markdown",
   "metadata": {},
   "source": [
    "## Strings and operations on strings"
   ]
  },
  {
   "cell_type": "code",
   "execution_count": 0,
   "metadata": {},
   "outputs": [],
   "source": [
    "# Create the string value hello world, replace None with the string\n",
    "hello = \"hello world\" \n",
    "print(hello)"
   ]
  },
  {
   "cell_type": "code",
   "execution_count": 0,
   "metadata": {},
   "outputs": [],
   "source": [
    "assert hello == \"hello world\", error_message(hello, \"hello world\")\n",
    "assert type(hello) == str, error_message(type(hello).__name__, str)"
   ]
  },
  {
   "cell_type": "code",
   "execution_count": 0,
   "metadata": {},
   "outputs": [],
   "source": [
    "# Set the two hello and world variables to their respective words, replace None\n",
    "hello = \"hello\" \n",
    "world = \"world\" \n",
    "\n",
    "# and combine them in the hello world variable to give \"hello world\" using the appropriate operator - think about the space in the middle, replace None with the correct expression\n",
    "hello_world = hello + \" \" + world \n",
    "\n",
    "print(hello_world)"
   ]
  },
  {
   "cell_type": "code",
   "execution_count": 0,
   "metadata": {},
   "outputs": [],
   "source": [
    "assert hello_world == \"hello world\", error_message(hello, 'hello world')\n",
    "assert hello != \"\", f\"value of 'hello' was empty\"\n",
    "assert world != \"\", f\"value of 'world' was empty\""
   ]
  },
  {
   "cell_type": "code",
   "execution_count": 0,
   "metadata": {},
   "outputs": [],
   "source": [
    "# Depending on how funny a joke is, you might laugh for a longer or shorter time\n",
    "# Fill in the values (replace None) to make the following print 'HaHaHaHaHa'\n",
    "laugh = \"Ha\" \n",
    "many_times = 5 \n",
    "\n",
    "# make it laugh 'many_times' by implementing the correct expression using the above variables and an appropriate operator \n",
    "laugh_a_lot = laugh * many_times \n",
    "\n",
    "assert laugh_a_lot == \"HaHaHaHaHa\", error_message(laugh_a_lot, 'HaHaHaHaHa')\n",
    "assert many_times > 1, f\"many_times should be a number bigger than 1, was {many_times}\"\n",
    "print(laugh_a_lot)"
   ]
  },
  {
   "cell_type": "markdown",
   "metadata": {},
   "source": [
    "## Indexing of strings\n",
    "\n",
    "As we have discussed in lecture 1, we can index a `str` object. This is because it is a sequence of characters.\n",
    "\n",
    "* This can e.g., be handy, if you want the names of a particular file type such as docx. \n",
    "* Remember that Python counts from `0`!\n",
    "* If you want to access the value of more than one index, you can use `[index_start : index_end]` where `index_start` and `index_end` are integers.\n",
    "    - Note that this will give you the values starting from `index_start` and until `index_end - 1`\n",
    "\n",
    "More on this in lesson 4 on compound data types. "
   ]
  },
  {
   "cell_type": "code",
   "execution_count": 0,
   "metadata": {},
   "outputs": [],
   "source": [
    "# Replace None with name[index] using the correct index inserted\n",
    "name = 'Nanna'\n",
    "name_of_first_character = name[0] "
   ]
  },
  {
   "cell_type": "code",
   "execution_count": 0,
   "metadata": {},
   "outputs": [],
   "source": [
    "assert name_of_first_character == \"N\", error_message(name_of_first_character, \"N\")"
   ]
  },
  {
   "cell_type": "code",
   "execution_count": 0,
   "metadata": {},
   "outputs": [],
   "source": [
    "# Replace None with the correct index/index range to extract the filename without suffix (docx)\n",
    "filename_w_extension = 'filename.docx'\n",
    "filename = filename_w_extension[0:8] \n",
    "print(filename)"
   ]
  },
  {
   "cell_type": "code",
   "execution_count": 0,
   "metadata": {},
   "outputs": [],
   "source": [
    "assert filename == \"filename\", error_message(filename, \"filename\")"
   ]
  },
  {
   "cell_type": "markdown",
   "metadata": {},
   "source": [
    "### Comparing strings by order\n",
    "Python strins are case-sensitive, and as shown in Lecture 1, upper and lower case letters have different comparison values from the ASCII table."
   ]
  },
  {
   "cell_type": "code",
   "execution_count": 0,
   "metadata": {},
   "outputs": [],
   "source": [
    "is_mac_better_than_windows = \"Mac\" > \"Windows\""
   ]
  },
  {
   "cell_type": "code",
   "execution_count": 0,
   "metadata": {},
   "outputs": [],
   "source": [
    "assert is_mac_better_than_windows == True "
   ]
  },
  {
   "cell_type": "markdown",
   "metadata": {},
   "source": [
    "What if we compare stringified numbers?"
   ]
  },
  {
   "cell_type": "code",
   "execution_count": 0,
   "metadata": {},
   "outputs": [],
   "source": [
    "is_hundred_largest = \"100\" > \"2\""
   ]
  },
  {
   "cell_type": "code",
   "execution_count": 0,
   "metadata": {},
   "outputs": [],
   "source": [
    "assert is_hundred_largest == True "
   ]
  },
  {
   "cell_type": "markdown",
   "metadata": {},
   "source": [
    "## Lexical ordering\n",
    "When using Python's `sorted()` function, it sorts strings by their lexical order (left to right):\n",
    "\n",
    "* Explanation of lexical order from https://www.dictionary.com/browse/lexical-order \n",
    "\n",
    "*the arrangement of a set of items in accordance with a recursive algorithm, such as the entries in a dictionary whose order depends on their first letter unless these are the same in which case it is the second which decides, and so on*\n",
    "\n",
    "So comparison of `\"banana\"` and `\"bAnana\"`\n",
    "* `b and b ` is identical \n",
    "* `A < a` which is `True`\n",
    "\n",
    "What you see below is a `list` of `strings`! \n",
    "* we will come back to lists in Lecture 4, but for now, play with this and see the difference in ordering."
   ]
  },
  {
   "cell_type": "code",
   "execution_count": 0,
   "metadata": {},
   "outputs": [],
   "source": [
    "print(\"b\" < \"b\")\n",
    "print(\"A\" < \"a\")\n",
    "print(sorted([\"banana\", \"bAnana\"]))\n",
    "# And since \"A\" has a lower value then \"a\", it will order it first "
   ]
  },
  {
   "cell_type": "code",
   "execution_count": 0,
   "metadata": {},
   "outputs": [],
   "source": [
    "# you can use the ord() function to get the ascii value of a single character\n",
    "print(\"The ascii value of 1 is\", ord(\"1\"))\n",
    "print(\"The ascii value of a is\", ord(\"a\"))\n",
    "print(\"The ascii value of B is\", ord(\"B\"))\n",
    "print(\"The ascii value of d is\", ord(\"d\"))"
   ]
  },
  {
   "cell_type": "markdown",
   "metadata": {},
   "source": [
    "Lexical ordering becomes really strange when dealing with strings of numbers, which you will see next. \n",
    "\n",
    "This is often an issue if you have files on your computer that are numbered 1, 2, 3..., 10,11 .. 100...\n",
    "* As before, pairwise comparison `\"1\"` and `\"10\"` both start with `1`, meaning they are ordered before `\"2\"`."
   ]
  },
  {
   "cell_type": "code",
   "execution_count": 0,
   "metadata": {},
   "outputs": [],
   "source": [
    "# Python sorts strings Lexicographically, meaning each character is compared one by one from left to right\n",
    "print(sorted([\"1\", \"2\", \"5\", \"10\", \"50\", \"100\", \"200\", \"500\", \"1000\"]))"
   ]
  },
  {
   "cell_type": "code",
   "execution_count": 0,
   "metadata": {},
   "outputs": [],
   "source": [
    "# One way to deal with this issue is zero-pad the numbers\n",
    "print(sorted([\"0001\", \"0002\", \"0005\", \"0010\", \"0050\", \"0100\", \"0200\", \"0500\", \"1000\"]))"
   ]
  }
 ],
 "metadata": {
  "kernelspec": {
   "display_name": "bb1000_2023",
   "language": "python",
   "name": "python3"
  },
  "language_info": {
   "codemirror_mode": {
    "name": "ipython",
    "version": 3
   },
   "file_extension": ".py",
   "mimetype": "text/x-python",
   "name": "python",
   "nbconvert_exporter": "python",
   "pygments_lexer": "ipython3",
   "version": "3.9.0"
  },
  "orig_nbformat": 4,
  "vscode": {
   "interpreter": {
    "hash": "2f01e258595f0c264112b87b5f2e2c94be4bab49ac8438f33b47bf95e6458b5e"
   }
  }
 },
 "nbformat": 4,
 "nbformat_minor": 2
}