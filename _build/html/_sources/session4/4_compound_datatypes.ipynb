{
 "cells": [
  {
   "cell_type": "code",
   "execution_count": 0,
   "metadata": {},
   "outputs": [],
   "source": [
    "# Define helper function\n",
    "def error_message(actual, expected):\n",
    "    return f'Actual {actual} != Expected {expected}'"
   ]
  },
  {
   "attachments": {},
   "cell_type": "markdown",
   "metadata": {},
   "source": [
    "# Session 4 - Compound data types"
   ]
  },
  {
   "attachments": {},
   "cell_type": "markdown",
   "metadata": {},
   "source": [
    "Today we will practice working with sequence data types:\n",
    "* `Tuple` (defined using `()`)\n",
    "    - ordered sequence of elements\n",
    "    - immutable\n",
    "    - can handle mixed data types\n",
    "* `List` (defined uing `[]`)\n",
    "    - ordered sequence of elements\n",
    "    - mutable\n",
    "    - can handle mixed data types \n",
    "* `Set` (defined using `set()` if empty, otherwise `{}`)\n",
    "    - unordered sequence of unique elements\n",
    "    - the set itself may be modified, but its elements must be of an immutable type\n",
    "    - can handle mixed data types\n",
    "* `Dictionary` (defined using `dict()` or `{key: value}`)\n",
    "    - ordered sequence of key:value pairs (Python3). In Python2 they are unordered\n",
    "    - mutable\n",
    "    - values can be any data type \n",
    "    - keys can be of any immutable type (`int`, `str`, `float` - I do not recommend float because the are difficult to compare) and MUST BE unique\n",
    "\n",
    "**Some important concepts to understand:**\n",
    "* All compound data types are iterables \u2013 we can iterate through them (see comment below)\n",
    "* Mutable versus immutable objects\n",
    "    - mutable: allows you to change their value or data without affect the objects identity\n",
    "    - immutable: does not allow these kinds of changes\n",
    "* Each compound data type has various methods (will come back to that in lecture 6) that you can apply on them. `append` and `extend` are examples for lists.\n",
    "\n",
    "**Iterable versus iterator in Python:**\n",
    "* An iterable is an object that contains a countable number of values. It is an object that can be iterated upon, meaning that you can traverse through all its elements.\n",
    "    - Examples: `str, list, dict, set, tuple`\n",
    "* An iterator is an object which implements the iterator protocol, which consist of the special methods `__iter__()` and `__next__()`\n",
    "    - Examples: `zip, enumerate`"
   ]
  },
  {
   "cell_type": "code",
   "execution_count": 0,
   "metadata": {},
   "outputs": [],
   "source": [
    "# Run these commands to get information about the object type list and zip\n",
    "# You will see that zip implements iter() and next() whereas a list does not. \n",
    "# You may need to open the full output data in a text editor in order to be able to see it.\n",
    "\n",
    "help(list)\n",
    "help(zip)"
   ]
  },
  {
   "cell_type": "code",
   "execution_count": 0,
   "metadata": {},
   "outputs": [],
   "source": [
    "# Examples from lecture 4. \n",
    "from typing import Union\n",
    "\n",
    "# \"return\" in a function always returns an object. When there are multiple values in the return statement, it returns a tuple \n",
    "\n",
    "def sum_and_difference(x: Union[float, int], y: Union[float, int])->tuple[Union[float, int], Union[float, int]]:\n",
    "    \"\"\"Calculate the sum and difference between two numbers\n",
    "\n",
    "    Args:\n",
    "        x (float | int): first number to use in calculation\n",
    "        y (float | int): second number to use in calculation\n",
    "\n",
    "    Returns:\n",
    "        tuple[float | int, float | int]: tuple of sum and difference\n",
    "    \"\"\"\n",
    "    sum = x + y\n",
    "    difference = x - y\n",
    "    return sum, difference\n",
    "\n",
    "sum_and_diff = sum_and_difference(4,1)\n",
    "print(sum_and_diff, type(sum_and_diff))\n",
    "\n",
    "# Here we immediately unpack the tuple\n",
    "sum, diff = sum_and_difference(4,1)\n",
    "print(sum, diff, type(sum), type(diff))"
   ]
  },
  {
   "cell_type": "code",
   "execution_count": 0,
   "metadata": {},
   "outputs": [],
   "source": [
    "assert type(sum_and_diff) == tuple, error_message(type(sum_and_diff), tuple)\n",
    "assert sum_and_diff == (5, 3), error_message(sum_and_diff, (5, 3))"
   ]
  },
  {
   "cell_type": "code",
   "execution_count": 0,
   "metadata": {},
   "outputs": [],
   "source": [
    "# NOTE RERUN THESE CELLS TO NOT CONFUSE YOURSELF\n",
    "# Write a 'for' loop using 'range' to generate a list of numbers from 1 to 10 called alist.\n",
    "\n",
    "alist = []\n",
    "for i in range(1, 11):\n",
    "    alist.append(i)\n",
    "    \n",
    "print(alist)\n"
   ]
  },
  {
   "cell_type": "code",
   "execution_count": 0,
   "metadata": {},
   "outputs": [],
   "source": [
    "assert type(alist) == list, error_message(type(alist), list)\n",
    "expected = list(range(1,11))\n",
    "assert alist == expected, f\"{alist} != {expected}\""
   ]
  },
  {
   "cell_type": "code",
   "execution_count": 0,
   "metadata": {},
   "outputs": [],
   "source": [
    "# NOTE RERUN THESE CELLS TO NOT CONFUSE YOURSELF\n",
    "# Oh, we forgot to add the following numbers (see below) to the list. \n",
    "# Let us fix that with the built-in 'extend' method\n",
    "\n",
    "forgot_start = [-1, 0]\n",
    "forgot_end = [11, 12]\n",
    "\n",
    "alist.extend(forgot_end)\n",
    "print(forgot_start, alist)\n",
    "forgot_start.extend(alist)\n",
    "updated_list = forgot_start\n",
    "print('Updated list: ', updated_list)\n",
    "\n",
    "# Above we assigned the updated_list to forgot_start.\n",
    "# Let us check what that means address-wise\n",
    " \n",
    "print(hex(id(updated_list)), hex(id(forgot_start)))\n",
    "\n",
    "# What happens to the elements of forgot_start if we change one of the elements in updated_list?\n",
    "updated_list[0] = -2\n",
    "print('Updated list with new first element: ', updated_list)"
   ]
  },
  {
   "cell_type": "code",
   "execution_count": 0,
   "metadata": {},
   "outputs": [],
   "source": [
    "assert type(alist) == list, error_message(type(alist), list)\n",
    "expected = [i for i in range(1,13)]\n",
    "assert alist == expected, f\"{alist} != {expected}\""
   ]
  },
  {
   "attachments": {},
   "cell_type": "markdown",
   "metadata": {},
   "source": [
    "## Indexing and slicing\n",
    "\n",
    "You can use indexing to access certain elements in the sequence data types.\n",
    "\n",
    "Some examples with lists below:\n",
    "* `alist[i]`        \u2013 returns the element of `alist` corresponding to index `i`\n",
    "* `alist[-i]`       - returns the ith element from the end of the list. -1 being the last\n",
    "* `alist[:]`        - returns a new list with all the elements (called cloning)\n",
    "* `alist[i:j]`      - returns a new list with the elements from index `i` to index `j-1`\n",
    "* `alist[:i]`       \u2013 returns a new list with all element before index `i`\n",
    "* `alist[i:]`       \u2013 returns a new list with all elements corresponding to index `i` and onwards\n",
    "* `alist[::2]`      \u2013 returns a new list with every second element\n",
    "* `alist[::-1]`     - returns a new list with the reverse order of elements\n",
    "* `alist[i:j:k]`    \u2013 returns a new list with every kth element between index `i` and `j-1`\n",
    "\n",
    "**NOTE** The \"returns\" in all the above. In other words, a new list is outputted.\n"
   ]
  },
  {
   "cell_type": "code",
   "execution_count": 0,
   "metadata": {},
   "outputs": [],
   "source": [
    "# The list used for the indexing examples\n",
    "\n",
    "alist = [4, 2, 3, 5, 6, 1, 56, 3, 98, 10, 34, 65, 123]"
   ]
  },
  {
   "cell_type": "code",
   "execution_count": 0,
   "metadata": {},
   "outputs": [],
   "source": [
    "# Given alist, extract the element corresponding to index 2. That is, replace None\n",
    "\n",
    "alist_element = alist[2] "
   ]
  },
  {
   "cell_type": "code",
   "execution_count": 0,
   "metadata": {},
   "outputs": [],
   "source": [
    "assert alist_element == 3, error_message(alist_element, 3)"
   ]
  },
  {
   "cell_type": "code",
   "execution_count": 0,
   "metadata": {},
   "outputs": [],
   "source": [
    "# Given alist, print the last element in the list. Replace None\n",
    "\n",
    "alist_last = alist[-1] "
   ]
  },
  {
   "cell_type": "code",
   "execution_count": 0,
   "metadata": {},
   "outputs": [],
   "source": [
    "assert alist_last == 123, error_message(alist_last, 123)"
   ]
  },
  {
   "cell_type": "code",
   "execution_count": 0,
   "metadata": {},
   "outputs": [],
   "source": [
    "# Given alist, extract the sublist between index 3 and 8. Replace None\n",
    "alist_sublist = alist[3:8] "
   ]
  },
  {
   "cell_type": "code",
   "execution_count": 0,
   "metadata": {},
   "outputs": [],
   "source": [
    "assert alist_sublist == [5, 6, 1, 56, 3], error_message(alist_sublist, [5, 6, 1, 56, 3])"
   ]
  },
  {
   "cell_type": "code",
   "execution_count": 0,
   "metadata": {},
   "outputs": [],
   "source": [
    "# Given alist, extract every 4th element. Replace None\n",
    "alist_subsampling_four = alist[::4] "
   ]
  },
  {
   "cell_type": "code",
   "execution_count": 0,
   "metadata": {},
   "outputs": [],
   "source": [
    "assert alist_subsampling_four == [4, 6, 98, 123], error_message(alist_subsampling_four, [4, 6, 98, 123])"
   ]
  },
  {
   "cell_type": "code",
   "execution_count": 0,
   "metadata": {},
   "outputs": [],
   "source": [
    "# Given alist, get a new list with the order of elements reversed. Replace None\n",
    "alist_reversed = alist[::-1] "
   ]
  },
  {
   "cell_type": "code",
   "execution_count": 0,
   "metadata": {},
   "outputs": [],
   "source": [
    "assert alist_reversed == [123, 65, 34, 10, 98, 3, 56, 1, 6, 5, 3, 2, 4], error_message(alist_reversed, [123, 65, 34, 10, 98, 3, 56, 1, 6, 5, 3, 2, 4])"
   ]
  },
  {
   "cell_type": "code",
   "execution_count": 0,
   "metadata": {},
   "outputs": [],
   "source": [
    "# Play around with examples on your own to make sure that you understand how it works and explore additional possibilities."
   ]
  },
  {
   "attachments": {},
   "cell_type": "markdown",
   "metadata": {},
   "source": [
    "## Iterables of iterables\n",
    "\n",
    "The compound data types can contain elements of any type. In other words, their elements could be another iterable.\n",
    "For example, list of lists are very useful in many cases. \n",
    "\n",
    "* Remember that some of the compound data types allow you to modify the elements (mutable), while others do not (immutable)."
   ]
  },
  {
   "cell_type": "code",
   "execution_count": 0,
   "metadata": {},
   "outputs": [],
   "source": [
    "# Here we have a tuple_of_lists (list1, list2, list3). What happens if you attempt to change the 0-index element of the tuple?\n",
    "# Recall that tuples are immutable objects\n",
    "list1 = [1,2]\n",
    "list2 = [3,4]\n",
    "list3 = [5,6]\n",
    "\n",
    "tuple_of_lists = (list1, list2, list3)"
   ]
  },
  {
   "cell_type": "code",
   "execution_count": 0,
   "metadata": {},
   "outputs": [],
   "source": [
    "# Try the same but this time make it a list of lists. \n",
    "# Recall that lists are mutable objects.\n",
    "\n",
    "list_of_lists = [list1, list2, list3]"
   ]
  },
  {
   "attachments": {},
   "cell_type": "markdown",
   "metadata": {},
   "source": [
    "## Introducing iterable comprehensions\n",
    "\n",
    "Comprehensions in Python provide us with a short and concise way to construct new sequences (such as lists, set, dictionary etc.) using sequences which have been already defined.\n",
    "\n",
    "Python supports four types:\n",
    "* List comprehensions\n",
    "* Set comprehensions\n",
    "* Dictionary comprehensions\n",
    "* Generator comprehensions (for more advanced course or self-study)\n",
    "    - In short, a generator is a function that returns an iterator using the `yield` statement instead of the `return` statement\n",
    "\n",
    "Say for instance that you have a list of numbers and want to make a new list with the square of each of the numbers.\n",
    "\n",
    "Instead of writing a `for` loop, you can use a list comprehension, which is much more compact.\n",
    "\n",
    "**The syntax**\n",
    "```python\n",
    "newlist = [expression for item in iterable if condition == True]\n",
    "```"
   ]
  },
  {
   "cell_type": "code",
   "execution_count": 0,
   "metadata": {},
   "outputs": [],
   "source": [
    "# Let's first take the example from above. Generate a list of numbers from 1 to 10.\n",
    "\n",
    "alist = [x for x in range(1,11)]\n",
    "print(alist)"
   ]
  },
  {
   "cell_type": "code",
   "execution_count": 0,
   "metadata": {},
   "outputs": [],
   "source": [
    "assert type(alist) == list, error_message(type(alist), list)\n",
    "expected = [i for i in range(1,11)]\n",
    "assert alist == expected, f\"{alist} != {expected}\""
   ]
  },
  {
   "cell_type": "code",
   "execution_count": 0,
   "metadata": {},
   "outputs": [],
   "source": [
    "# Create a list called blist using a list comprehension which contains the squares of all the elements in alist\n",
    "\n",
    "blist = [x * x for x in alist]\n",
    "print(blist)\n"
   ]
  },
  {
   "cell_type": "code",
   "execution_count": 0,
   "metadata": {},
   "outputs": [],
   "source": [
    "expected = [1, 4, 9, 16, 25, 36, 49, 64, 81, 100]\n",
    "assert blist == expected, f\"{blist} != {expected}\""
   ]
  },
  {
   "cell_type": "code",
   "execution_count": 0,
   "metadata": {},
   "outputs": [],
   "source": [
    "# But I only wanted the square of the even numbers. Let's name this list clist. \n",
    "# Combine list comprehensions and the modulus operator in order to filter\n",
    "\n",
    "clist = [x * x for x in alist if x % 2 == 0]\n",
    "print(clist)\n"
   ]
  },
  {
   "cell_type": "code",
   "execution_count": 0,
   "metadata": {},
   "outputs": [],
   "source": [
    "expected = [4, 16, 36, 64, 100]\n",
    "assert clist == expected, f\"{clist} != {expected}\""
   ]
  },
  {
   "cell_type": "code",
   "execution_count": 0,
   "metadata": {},
   "outputs": [],
   "source": [
    "# The iterable can also be a tuple (or any other iterable)\n",
    "\n",
    "list_from_tuple = [x for x in (1,2,3,3)]\n",
    "list_from_str = [x for x in 'COOL']\n",
    "\n",
    "print(list_from_tuple)\n",
    "print(list_from_str)"
   ]
  },
  {
   "cell_type": "code",
   "execution_count": 0,
   "metadata": {},
   "outputs": [],
   "source": [
    "# Test what happens if we do the similar set comprehension?\n",
    "# Replace None to make test_a and test_b True\n",
    "\n",
    "set_from_tuple = {x for x in (1,2,3,3)}\n",
    "set_from_str = {x for x in 'COOL'}\n",
    "\n",
    "test_a = set_from_tuple == {1, 2, 3} \n",
    "test_b = set_from_str == {'C', 'O', 'L'} \n",
    "\n",
    "assert test_a and test_b == True"
   ]
  },
  {
   "cell_type": "code",
   "execution_count": 0,
   "metadata": {},
   "outputs": [],
   "source": [
    "# Let us try to make a nested list comprehension as a way to generate a list of lists\n",
    "# Make a list (named nested_list) that is five elements long where each element is a list of integers from 0 to 4\n",
    "\n",
    "nested_list = [[x for x in range(5)] for y in range(5)]\n",
    "print(nested_list)\n"
   ]
  },
  {
   "cell_type": "code",
   "execution_count": 0,
   "metadata": {},
   "outputs": [],
   "source": [
    "expected = [[0, 1, 2, 3, 4], [0, 1, 2, 3, 4], [0, 1, 2, 3, 4], [0, 1, 2, 3, 4], [0, 1, 2, 3, 4]]\n",
    "assert nested_list == expected, f\"{nested_list} != {expected}\""
   ]
  },
  {
   "attachments": {},
   "cell_type": "markdown",
   "metadata": {},
   "source": [
    "## Generators\n",
    "\n",
    "We can do other cool stuff using so-called generators.\n",
    "We will not dive into details here, I just want to show you the use of two such examples.\n",
    "\n",
    "Two very useful generators:\n",
    "* `zip()` - takes in iterables as arguments and returns an iterator of tuples. \n",
    "    - you can think of it as a way of travesing multiple iterables at the same time. If the iterables have different number of elements, the shortest will set the number of possible iterations!!!\n",
    "    - it returns a tuple. You can unpack the tuple into two variables immediately\n",
    "* `enumerate()` - takes in an iterable as argument and returns a tuple containing a count index (by default starting from 0) and the value obtained from iterating over the iterable\n",
    "\n",
    "Below we are going to try them out on lists to generate dictionaries"
   ]
  },
  {
   "cell_type": "code",
   "execution_count": 0,
   "metadata": {},
   "outputs": [],
   "source": [
    "# Print the output of looping over 'zip' applied to alist and blist of different length\n",
    "# You should see that the shortest list will limit the number of possible iterations.\n",
    "\n",
    "list_len_two = [2, 3]\n",
    "list_len_three = [1, 2, 3]\n",
    "\n",
    "for element in zip(list_len_two, list_len_three):\n",
    "    print(element)\n"
   ]
  },
  {
   "cell_type": "code",
   "execution_count": 0,
   "metadata": {},
   "outputs": [],
   "source": [
    "# Now assume that we have two lists containing associated information. \n",
    "# One could contain the names of students, the other could be their age.  \n",
    "names = ['Alice', 'Bob', 'Charlie']\n",
    "ages = [24, 40, 30]\n",
    "\n",
    "# Use 'zip' to create a dictionary named student_dict with name: age value pairs.\n",
    "\n",
    "student_dict = {}\n",
    "for name, age in zip(names, ages):\n",
    "    student_dict[name] = age\n",
    "\n",
    "print(student_dict)\n"
   ]
  },
  {
   "cell_type": "code",
   "execution_count": 0,
   "metadata": {},
   "outputs": [],
   "source": [
    "expected = {'Alice': 24, 'Bob': 40, 'Charlie': 30}\n",
    "assert student_dict == expected, f\"{student_dict} != {expected}\""
   ]
  },
  {
   "cell_type": "code",
   "execution_count": 0,
   "metadata": {},
   "outputs": [],
   "source": [
    "# We can use a dictionary comprehension to make it a one-liner\n",
    "# Try to implement this in variable name student_dict_from_dict_comprehension\n",
    "\n",
    "student_dict_from_dict_comprehension = {name: age for name, age in zip(names, ages)}\n"
   ]
  },
  {
   "cell_type": "code",
   "execution_count": 0,
   "metadata": {},
   "outputs": [],
   "source": [
    "expected = {'Alice': 24, 'Bob': 40, 'Charlie': 30}\n",
    "assert student_dict_from_dict_comprehension == expected, f\"{student_dict_from_dict_comprehension} != {expected}\""
   ]
  },
  {
   "cell_type": "code",
   "execution_count": 0,
   "metadata": {},
   "outputs": [],
   "source": [
    "# Or even shorter using the 'dict' mapping object directly on 'zip'\n",
    "# This was to demonstrate more advanced shortcuts. Do not worry too about it at this point, just be curiuos (=explore) the many possibilities.\n",
    "\n",
    "student_dict_from_zipgenerator = dict(zip(names, ages))\n",
    "print(student_dict_from_zipgenerator)"
   ]
  },
  {
   "attachments": {},
   "cell_type": "markdown",
   "metadata": {},
   "source": [
    "## Dictionaries"
   ]
  },
  {
   "cell_type": "code",
   "execution_count": 0,
   "metadata": {},
   "outputs": [],
   "source": [
    "# Write a code that counts the number of times a given letter occurs in a string and returns it as a dictionary called dict_letters\n",
    "# string.lower() or string.upper() may come in handy. Make sure that the code can handle spaces and punctuation\n",
    "\n",
    "def count_letters(string: str)->dict:\n",
    "    \"\"\"Counts letters in string\n",
    "\n",
    "    Args:\n",
    "        string (str): string to be analyzed\n",
    "\n",
    "    Returns:\n",
    "        dict_letters: dictionary with key, value being letter, #occurrences\n",
    "    \"\"\"\n",
    "    dict_letters = {}\n",
    "    cleaned_string = ''\n",
    "    for char in string.lower():\n",
    "        if char in 'abcdefghijklmnopqrstuvwxyz':\n",
    "            cleaned_string += char\n",
    "    for char in cleaned_string:\n",
    "        if char not in dict_letters:\n",
    "            dict_letters[char] = 1\n",
    "        else:\n",
    "            dict_letters[char] += 1\n",
    "    return dict_letters\n"
   ]
  },
  {
   "cell_type": "code",
   "execution_count": 0,
   "metadata": {},
   "outputs": [],
   "source": [
    "test_string = 'From zero to Python hero!'\n",
    "calculated = count_letters(test_string)\n",
    "expected = {'f': 1, 'r': 3, 'o': 5, 'm': 1, 'z': 1, 'e': 2, 't': 2, 'p': 1, 'y': 1, 'h': 2, 'n': 1}\n",
    "assert calculated == expected, f\"{calculated} != {expected}\""
   ]
  },
  {
   "cell_type": "code",
   "execution_count": 0,
   "metadata": {},
   "outputs": [],
   "source": [
    "test_string2 = \"CCGGAAGAGCTTACTTAGGC\" \n",
    "calculated = count_letters(test_string2)\n",
    "expected = {\"a\": 5, \"c\": 5, \"g\": 6, \"t\": 4}\n",
    "assert calculated == expected, f'{calculated} != {expected}'"
   ]
  },
  {
   "attachments": {},
   "cell_type": "markdown",
   "metadata": {},
   "source": [
    "### Sorting a dictionary by values\n",
    "\n",
    "Knowing how to sort dictionaries according to their values can be very helpful.\n",
    "\n",
    "We will be looking at two methods for sorting:\n",
    "* Using `sorted()` together with `itemgetter()` from the `operator` module (`from operator import itemgetter`)\n",
    "* Using `sorted()` together with lambda function\n",
    "\n",
    "The built-in `sorted()` function builds a new sorted object for any iterable (`list`, `dict`, ...)\n",
    "* has a key parameter to specify a function (should return a key to be used for sorting) to be called on each element (i.e., function takes single argument) prior to comparison\n",
    "\n",
    "**Read more here:**\n",
    "https://docs.python.org/3/howto/sorting.html \n",
    "\n",
    "Let us look at the use of both options and use the `time` module (`import time`) to print how long time it takes to do the sortings."
   ]
  },
  {
   "cell_type": "code",
   "execution_count": 0,
   "metadata": {},
   "outputs": [],
   "source": [
    "test_list = [{'name': 'Nanna', 'age': 37},\n",
    "             {'name': 'Magnus', 'age': 11},\n",
    "             {'name': 'Annett', 'age': 66},\n",
    "             {'name': 'Kenneth', 'age': 53},\n",
    "             {'name': 'Allan', 'age': 45},\n",
    "             {'name': 'Jakob', 'age': 28},\n",
    "             {'name': 'Noelle', 'age': 8},\n",
    "             {'name': 'Hjalte', 'age': 8},\n",
    "             {'name': 'Annabel', 'age': 7},\n",
    "             {'name': 'Evi', 'age': 0},\n",
    "             {'name': 'Geo', 'age': 2}\n",
    "             ]"
   ]
  },
  {
   "cell_type": "code",
   "execution_count": 0,
   "metadata": {},
   "outputs": [],
   "source": [
    "# First the itemgetter implementation\n",
    "from operator import itemgetter\n",
    "import time\n",
    "\n",
    "start_time = time.time()\n",
    "# List sorted by age\n",
    "print(sorted(test_list, key=itemgetter(\"age\")))\n",
    "end_time = time.time()\n",
    "print('time elapsed (in sec): ', end_time - start_time)\n",
    "\n",
    "start_time = time.time()\n",
    "# List sorted by age in reverse order\n",
    "print(sorted(test_list, key=itemgetter(\"age\"), reverse=True))\n",
    "end_time = time.time()\n",
    "print('time elapsed (in sec): ', end_time - start_time)"
   ]
  },
  {
   "cell_type": "code",
   "execution_count": 0,
   "metadata": {},
   "outputs": [],
   "source": [
    "# And now to lambda functions\n",
    "import time\n",
    "\n",
    "start_time = time.time()\n",
    "# List sorted by age\n",
    "print(sorted(test_list, key = lambda i: i['age']))\n",
    "end_time = time.time()\n",
    "print('time elapsed (in sec): ', end_time - start_time)\n",
    "\n",
    "start_time = time.time()\n",
    "# List sorted by age in reverse order\n",
    "print(sorted(test_list, key= lambda i: i['age'], reverse=True))\n",
    "end_time = time.time()\n",
    "print('time elapsed (in sec): ', end_time - start_time)"
   ]
  },
  {
   "attachments": {},
   "cell_type": "markdown",
   "metadata": {},
   "source": [
    "### Increasing efficiency of fibonacci using dictionaries\n",
    "\n",
    "Last time we implemented a function `fibonacci` to compute Fibonacci numbers. I have pasted my version in below.\n",
    "\n",
    "We did so using recursion. We saw that the number of calls to the `fibonacci` grew very quickly and a lot of numbers have to be recalculated.\n",
    "\n",
    "I try to demonstrate this below using my original implementation."
   ]
  },
  {
   "cell_type": "code",
   "execution_count": 0,
   "metadata": {},
   "outputs": [],
   "source": [
    "# Run the code below to see the individual fibonacci calls.\n",
    "\n",
    "def fibonacci(x: int) -> int:\n",
    "    \"\"\"Calculate the next Fibonacci number for iteration n\n",
    "    assuming x >= 0\n",
    "\n",
    "    Args:\n",
    "        x (int): iteration x\n",
    "\n",
    "    Returns:\n",
    "        int: Fibonacci of x, number of fibonacci calls\n",
    "    \"\"\"    \n",
    "    global number_fibonacci_calls\n",
    "    print('Calling fibonacci with x: ', x)\n",
    "    number_fibonacci_calls += 1\n",
    "    if x == 0 or x == 1:\n",
    "        return 1\n",
    "    else:\n",
    "        return fibonacci(x-1) + fibonacci(x-2)\n",
    "    \n",
    "number_fibonacci_calls = 0\n",
    "fibonacci(12)\n",
    "print(\"Number of fibonacci calls with original implementation: \", number_fibonacci_calls)"
   ]
  },
  {
   "attachments": {},
   "cell_type": "markdown",
   "metadata": {},
   "source": [
    "As you just saw, fibonacci is called many times with the same argument.\n",
    "\n",
    "This is double/triplet/quadruple/... work!!! We can do better than that using dictionaries because they allow us to store previously calculated values and then check if they have already been calculated.\n",
    "\n",
    "**New speedy algorithm:**\n",
    "* First do a look-up in the dictionary in case of already calculated values\n",
    "    - Remember that at the start you have the base values in the dictionary\n",
    "    - If so, use the value in the dictionary (instead of recalculating it)\n",
    "    - If not, calculate the missing value and the add it to the dictionary"
   ]
  },
  {
   "cell_type": "code",
   "execution_count": 0,
   "metadata": {},
   "outputs": [],
   "source": [
    "# Write the new speedy fibonacci function. Print the number of fibonacci calls and the final dictionary\n",
    "\n",
    "def fibonacci_speedy(x: int, d: dict) -> int:\n",
    "    \"\"\"Calculate the next Fibonacci number for iteration n\n",
    "    assuming x >= 0\n",
    "\n",
    "    Args:\n",
    "        x (int): iteration x\n",
    "        d (dict): dictionary to hold previously calculated values\n",
    "\n",
    "    Returns:\n",
    "        int: Fibonacci of x, number of fibonacci calls\n",
    "    \"\"\"    \n",
    "    global number_fibonacci_calls\n",
    "    if x in d:\n",
    "        return d[x]\n",
    "    else:\n",
    "        number_fibonacci_calls += 1\n",
    "        fib_n_m1 = fibonacci_speedy(x-1, d)\n",
    "        d[x-1] = fib_n_m1 \n",
    "        fib_n_m2 = fibonacci_speedy(x-2, d) \n",
    "        d[x-2] = fib_n_m2\n",
    "        return fib_n_m1 + fib_n_m2\n",
    "\n",
    "fibonacci_dict = {0:1, 1:1}\n",
    "number_fibonacci_calls = 0\n",
    "fibonacci_speedy(12, fibonacci_dict)\n",
    "print(\"Number of fibonacci calls with speedy implementation: \", number_fibonacci_calls)\n",
    "print('The final dictionary: ', fibonacci_dict)"
   ]
  },
  {
   "cell_type": "code",
   "execution_count": 0,
   "metadata": {},
   "outputs": [],
   "source": [
    "fibonacci_dict = {0:1, 1:1}\n",
    "assert fibonacci_speedy(12, fibonacci_dict) == 233, error_message(fibonacci_speedy(12, fibonacci_dict), 233)"
   ]
  },
  {
   "attachments": {},
   "cell_type": "markdown",
   "metadata": {},
   "source": [
    "## Mutables versus immutables and objects\n",
    "\n",
    "This is an introductory course to Python, so we will not dive deep into memory. \n",
    "\n",
    "Yet, you need to understand:\n",
    "* Everything in Python is an object\n",
    "* Mutable vs immutable objects\n",
    "    - mutable: allows you to change their value or data without affect the objects identity\n",
    "        - Examples: `dict, list, set`\n",
    "    - immutable: does not allow these kinds of changes\n",
    "        - Examples: `int, float, bool, str, tuple`\n",
    "* Variables/names in Python\n",
    "\n",
    "**Keeping track of memory addressed**\n",
    "* Use `id()` to keep check the memory address of a given object\n",
    "* Use `hex()` around `id()`to get the memory address as a hexidecimal number "
   ]
  },
  {
   "cell_type": "code",
   "execution_count": 0,
   "metadata": {},
   "outputs": [],
   "source": [
    "# First, an immutable type: \n",
    "# Let us recall what happens when adding 1 to an integer.\n",
    "# We are going to keep track of the object id by printing its memory address\n",
    "\n",
    "i = 4\n",
    "print('i before adding 1: ', i)\n",
    "print('memory address of i before adding 1: ', hex(id(i)))\n",
    "i += 1\n",
    "print('i after adding 1: ', i)\n",
    "print('memory address of i after adding 1: ', hex(id(i)))\n",
    "\n",
    "# As you will see, the += 1 operation reassigned i. So now it has a different memory address.\n",
    "# This is because it is immutable (=cannot be changed in place!)"
   ]
  },
  {
   "cell_type": "code",
   "execution_count": 0,
   "metadata": {},
   "outputs": [],
   "source": [
    "# Next, a mutable type:\n",
    "# Let us see what happens when appending 1 to a list?\n",
    "\n",
    "alist = [2, 4]\n",
    "print('alist before appending 1: ', alist)\n",
    "print('memory address of alist before appending 1: ', hex(id(alist)))\n",
    "\n",
    "alist.append(1)\n",
    "print('alist after appending 1: ', alist)\n",
    "print('memory address of alist after appending 1: ', hex(id(alist)))\n",
    "\n",
    "# As you will see, the append operation DID NOT change the alist!\n",
    "# This is because a list is mutable (=CAN BE changed in place!)"
   ]
  },
  {
   "cell_type": "code",
   "execution_count": 0,
   "metadata": {},
   "outputs": [],
   "source": [
    "# Now comes a tricky case.\n",
    "# What happens if we add 1 to each element in the list?\n",
    "# Now we need to recall that while a list is mutable, the numbers (int or float) are immutable.\n",
    "# This gives rise to the following behavior.\n",
    "\n",
    "alist = [2, 4]\n",
    "print('alist before adding 1: ', alist)\n",
    "print('memory address of alist before adding 1: ', hex(id(alist)))\n",
    "print([hex(id(x)) for x in alist])\n",
    "\n",
    "for i in range(len(alist)):\n",
    "    alist[i] += 1\n",
    "\n",
    "print('alist after adding 1: ', alist)\n",
    "print('memory address of alist after adding 1: ', hex(id(alist)))\n",
    "print([hex(id(x)) for x in alist])\n",
    "\n",
    "# As you will see, the list maintained the same memory address following the addition - because it is mutable.\n",
    "# However, the += 1 operation binds each element to a new value because the elements (int in this case) were immutable."
   ]
  },
  {
   "attachments": {},
   "cell_type": "markdown",
   "metadata": {},
   "source": [
    "## An extension of the above discussion to functions\n",
    "\n",
    "Why do I show you this?\n",
    "* Because this is very common surprise (a negative one, producing unexpected results) when you are new to programming in Python!"
   ]
  },
  {
   "cell_type": "code",
   "execution_count": 0,
   "metadata": {},
   "outputs": [],
   "source": [
    "# Let us first recall the behavior of an immutable data type inside a function.\n",
    "# Here we consider an integer argument that is incremented by one by the function 'increment_print'\n",
    "# Study the code below and print the output of inputting i = 5\n",
    "\n",
    "def increment_print(i: int):\n",
    "    \"\"\"Increments number by 1 and prints its value\n",
    "\n",
    "    Args:\n",
    "        i (int): number to increment\n",
    "    \"\"\"    \n",
    "    i += 1\n",
    "    print('Print i inside function call after increment: ', i)\n",
    "\n",
    "i = 5\n",
    "print('Print i before and outside function call:     ', i)\n",
    "increment_print(i)\n",
    "print('Print i after and outside function call:      ', i)\n",
    "\n",
    "# What you should see is that i defined globally outside the function remains the same before and after the function call.\n",
    "# The reason being: It is immutable!"
   ]
  },
  {
   "cell_type": "code",
   "execution_count": 0,
   "metadata": {},
   "outputs": [],
   "source": [
    "# Now let us see what happens, if we write a function that does a similar thing but on a mutable data type.\n",
    "# We are going to use a list and iterate over its elements\n",
    "# Study the code below and print the output of inputting alist = [2,3]\n",
    "\n",
    "def list_append_print(blist: list):\n",
    "    \"\"\"Appends 1 to the list and prints it\n",
    "\n",
    "    Args:\n",
    "        blist (list): list of integers\n",
    "    \"\"\"    \n",
    "    blist.append(1)\n",
    "    print('Print blist inside function call after increment: ', blist)\n",
    "\n",
    "alist = [2,3]\n",
    "print('Print alist before and outside function call:     ', alist)\n",
    "list_append_print(alist)\n",
    "print('Print alist after and outside function call:      ', alist)\n",
    "\n",
    "# What you should see is that the scope of the blist INSIDE the function affected the value of alist OUTSIDE the function!!! \n",
    "# This happened without ever returning anything from the function or using global (for global scope) in the function!"
   ]
  },
  {
   "cell_type": "code",
   "execution_count": 0,
   "metadata": {},
   "outputs": [],
   "source": [
    "# Now let us see what happens, if we write a function that does a similar thing but on a mutable data type.\n",
    "# We are going to use a list and iterate over its elements\n",
    "# Study the code below and print the output of inputting alist = [2,3]\n",
    "\n",
    "def list_increment_print(alist: list):\n",
    "    \"\"\"Increments the integers of a list by 1 and prints the list\n",
    "\n",
    "    Args:\n",
    "        alist (list): list of integers\n",
    "    \"\"\"    \n",
    "    for i in range(len(alist)):\n",
    "        alist[i] += 1\n",
    "    print('alist inside function after increment: ', alist)\n",
    "\n",
    "alist = [2,3]\n",
    "print('Before function call')\n",
    "print('Memory ID of alist:    ', hex(id(alist)))\n",
    "for i in range(len(alist)):\n",
    "    print(f'Memory ID of alist[{i}]: ', hex(id(alist[i])))\n",
    "print('alist outside function call:           ', alist)\n",
    "\n",
    "print('-----------')\n",
    "list_increment_print(alist)\n",
    "\n",
    "print('-----------')\n",
    "print('After function call')\n",
    "print('alist outside function call:           ', alist)\n",
    "print('Memory ID of alist:    ', hex(id(alist)))\n",
    "for i in range(len(alist)):\n",
    "    print(f'Memory ID of alist[{i}]: ', hex(id(alist[i]))) \n",
    "\n",
    "# What you should see is that the memory locations of the elements of the lists have been changed because the elements were immutable\n",
    "# However, the memory address of the list remains the same because it is mutable."
   ]
  }
 ],
 "metadata": {
  "kernelspec": {
   "display_name": "bb1000_2023",
   "language": "python",
   "name": "python3"
  },
  "language_info": {
   "codemirror_mode": {
    "name": "ipython",
    "version": 3
   },
   "file_extension": ".py",
   "mimetype": "text/x-python",
   "name": "python",
   "nbconvert_exporter": "python",
   "pygments_lexer": "ipython3",
   "version": "3.9.0"
  },
  "orig_nbformat": 4,
  "vscode": {
   "interpreter": {
    "hash": "2f01e258595f0c264112b87b5f2e2c94be4bab49ac8438f33b47bf95e6458b5e"
   }
  }
 },
 "nbformat": 4,
 "nbformat_minor": 2
}