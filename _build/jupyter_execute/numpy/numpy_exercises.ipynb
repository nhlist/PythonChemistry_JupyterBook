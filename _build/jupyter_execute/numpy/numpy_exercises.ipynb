{
 "cells": [
  {
   "attachments": {},
   "cell_type": "markdown",
   "metadata": {},
   "source": [
    "# Introduction to NumPy - Numerical Python\n",
    "\n",
    "NumPy - numerical Python - is an external library for scientific computing in Python. \n",
    "\n",
    "It provides a multidimensional array object (ndarray) and a multitude of of routines for fast operations on arrays, including:\n",
    "* mathematical operations\n",
    "* logical operations\n",
    "* shape manipulation\n",
    "* sorting\n",
    "* selecting\n",
    "* input/output (I/O)\n",
    "* basic linear algebra\n",
    "* basic statistical operations\n",
    "* and much more...\n",
    "\n",
    "**NOTE:** NumPy arrays are homogeneous. Each array can only hold elements of one data type (in contrast to the other compound data types that can hold different)\n",
    "Data types allowed in NumPy arrays:\n",
    "* `int`\n",
    "* `float`\n",
    "* `complex` (for complex numbers)\n",
    "* `bool`\n",
    "* `str`\n",
    "\n",
    "Read more in the [NumPy documentation](https://numpy.org/doc/stable/)"
   ]
  },
  {
   "cell_type": "code",
   "execution_count": 1,
   "metadata": {},
   "outputs": [],
   "source": [
    "# First we need to import the library\n",
    "import numpy as np"
   ]
  },
  {
   "attachments": {},
   "cell_type": "markdown",
   "metadata": {},
   "source": [
    "## The NymPy array"
   ]
  },
  {
   "cell_type": "code",
   "execution_count": 2,
   "metadata": {},
   "outputs": [
    {
     "name": "stdout",
     "output_type": "stream",
     "text": [
      "an array:  [1 2 3 4 5 6]\n",
      "a string array:  ['Nanna' 'Anna' 'Eric' 'Viggo']\n",
      "[1 2 3 4 5 6] <class 'numpy.ndarray'>\n"
     ]
    }
   ],
   "source": [
    "# Creating an array directly from numbers\n",
    "an_array = np.array([1, 2, 3, 4, 5, 6])\n",
    "print(\"an array: \", an_array)\n",
    "\n",
    "#Creating an array of strings\n",
    "a_str_array = np.array([\"Nanna\", \"Anna\", \"Eric\", \"Viggo\"])\n",
    "print(\"a string array: \", a_str_array)\n",
    "\n",
    "# Making an array from a list\n",
    "a_list = [1, 2, 3, 4, 5, 6]\n",
    "an_array_from_list = np.array(a_list)\n",
    "print(an_array, type(an_array))"
   ]
  },
  {
   "cell_type": "code",
   "execution_count": 3,
   "metadata": {},
   "outputs": [
    {
     "name": "stdout",
     "output_type": "stream",
     "text": [
      "array_1D\n",
      "[1 2]\n",
      "1 (2,)\n",
      "array_2D\n",
      "[[1 2]\n",
      " [3 4]]\n",
      "2 (2, 2)\n",
      "array_3D\n",
      "[[[1 2]\n",
      "  [3 4]]\n",
      "\n",
      " [[5 6]\n",
      "  [7 8]]]\n",
      "3 (2, 2, 2)\n"
     ]
    }
   ],
   "source": [
    "# Multidimensional arrays\n",
    "array_1D = np.array([1, 2])\n",
    "array_2D = np.array([[1, 2],[3, 4]])\n",
    "array_3D = np.array(([[[1, 2],[3, 4]],[[5, 6],[7, 8]]]))\n",
    "# etc.\n",
    "\n",
    "# Printing the arrays, the number of dimensions and their shape\n",
    "print('array_1D')\n",
    "print(array_1D)\n",
    "print(array_1D.ndim, array_1D.shape)\n",
    "\n",
    "print('array_2D')\n",
    "print(array_2D)\n",
    "print(array_2D.ndim, array_2D.shape)\n",
    "\n",
    "print('array_3D')\n",
    "print(array_3D)\n",
    "print(array_3D.ndim, array_3D.shape)"
   ]
  },
  {
   "attachments": {},
   "cell_type": "markdown",
   "metadata": {},
   "source": [
    "## Mathematical operations"
   ]
  },
  {
   "attachments": {},
   "cell_type": "markdown",
   "metadata": {},
   "source": [
    "**Element-wise arithmetic operations** (between equally-sized arrays where elements are numbers)\n",
    "* Addition\n",
    "* Subtraction\n",
    "* Multiplication\n",
    "* Division\n",
    "* Exponentiation\n",
    "* Modulus\n",
    "\n",
    "**Scalar operations** (between scalar and array)\n",
    "* Addition\n",
    "* Subtraction\n",
    "* Multiplication\n",
    "* Division\n",
    "\n",
    "This works by performing the operation on each element of the array.\n",
    "\n",
    "**NOTE**\n",
    "* Pay attention to whether the operations output integers or floats. \n",
    " * Below is an example of integer input arrays - however - not all operations gives integer output arrays!"
   ]
  },
  {
   "cell_type": "code",
   "execution_count": 4,
   "metadata": {},
   "outputs": [
    {
     "name": "stdout",
     "output_type": "stream",
     "text": [
      "vector addition:  [4 7 9]\n",
      "vector subtraction:  [-2 -1 -1]\n",
      "vector multiplication:  [ 3 12 20]\n",
      "vector division:  [0.33333333 0.75       0.8       ]\n",
      "vector exponentiation:  [ 1  9 16]\n",
      "vector modulus:  [1 3 4]\n",
      "[5 7 8]\n"
     ]
    }
   ],
   "source": [
    "vector1 = np.array([1, 3, 4])\n",
    "vector2 = np.array([3, 4, 5])\n",
    "\n",
    "# Element-wise addition (+) or (np.add(vector1, vector2))\n",
    "vector_addition = vector1 + vector2\n",
    "print(\"vector addition: \", vector_addition)\n",
    "\n",
    "# Element-wise subtraction (-) or (np.subtract(vector1, vector2))\n",
    "vector_subtract = vector1 - vector2\n",
    "print(\"vector subtraction: \", vector_subtract)\n",
    "\n",
    "# Element-wise multiplication (*) or (np.multiply(vector1, vector2))\n",
    "vector_multiply = vector1 * vector2\n",
    "print(\"vector multiplication: \", vector_multiply)\n",
    "\n",
    "# Element-wise division (/) - implies float division in Python3 or np.divide(vector1, vector2)\n",
    "vector_division = vector1 / vector2\n",
    "print(\"vector division: \", vector_division)\n",
    "\n",
    "# Element-wise exponentiation (**) or (np.power(vector1, 2))\n",
    "vector_exponentiation = vector1 ** 2\n",
    "print(\"vector exponentiation: \", vector_exponentiation)\n",
    "\n",
    "# Element-wise modulus (%) or (np.mod(vector1, vector2))\n",
    "vector1_modulus_vector2 = vector1 % vector2\n",
    "print(\"vector modulus: \", vector1_modulus_vector2)\n",
    "\n",
    "test = vector1 + 4\n",
    "print(test)"
   ]
  },
  {
   "cell_type": "code",
   "execution_count": 5,
   "metadata": {},
   "outputs": [
    {
     "name": "stdout",
     "output_type": "stream",
     "text": [
      "scalar add:  [5 7 8]\n",
      "scalar sub:  [-1  1  2]\n",
      "scalar multiply:  [2 6 8]\n",
      "scalar divide:  [0.5 1.5 2. ]\n"
     ]
    }
   ],
   "source": [
    "vector1 = np.array([1, 3, 4])\n",
    "\n",
    "# Scalar addition\n",
    "scalar_add = vector1 + 4\n",
    "print(\"scalar add: \", scalar_add)\n",
    "\n",
    "# Scalar subtraction\n",
    "scalar_sub = vector1 - 2\n",
    "print(\"scalar sub: \", scalar_sub)\n",
    "\n",
    "# Scalar multiplication\n",
    "scalar_multiply = vector1 * 2\n",
    "print(\"scalar multiply: \", scalar_multiply)\n",
    "\n",
    "# Scalar_division\n",
    "scalar_divide = vector1 / 2\n",
    "print(\"scalar divide: \", scalar_divide)\n"
   ]
  },
  {
   "attachments": {},
   "cell_type": "markdown",
   "metadata": {},
   "source": [
    "## Array creation functions"
   ]
  },
  {
   "cell_type": "code",
   "execution_count": 6,
   "metadata": {},
   "outputs": [
    {
     "name": "stdout",
     "output_type": "stream",
     "text": [
      "2D array with zeros:  [[0. 0. 0. 0.]\n",
      " [0. 0. 0. 0.]\n",
      " [0. 0. 0. 0.]]\n",
      "1D-array with ones:  [1. 1. 1. 1.]\n",
      "array a:  [1 2 5 6 7] (5,)\n",
      "zero array like array a:  [0 0 0 0 0] (5,)\n",
      "[1. 3. 5. 7. 9.]\n",
      "[1 3 5 7 9]\n"
     ]
    }
   ],
   "source": [
    "# Create an array filled with zeros of specified dimensions. Here a 2D array with shape (3, 4)\n",
    "zeros_array_2D = np.zeros((3, 4))\n",
    "print(\"2D array with zeros: \", zeros_array_2D)\n",
    "\n",
    "# Create an array filled with ones of the specified dimensions. Here an 1D array with 4 elements\n",
    "ones_array_1D = np.ones((4))\n",
    "print(\"1D-array with ones: \", ones_array_1D)\n",
    "\n",
    "# Create an array filled with zeros with the same dimension as array argument.\n",
    "array_a = np.array([1, 2, 5, 6, 7])\n",
    "\n",
    "zeros_array_like_array_a = np.zeros_like(array_a)\n",
    "print(\"array a: \", array_a, array_a.shape)\n",
    "print(\"zero array like array a: \", zeros_array_like_array_a, zeros_array_like_array_a.shape)\n",
    "\n",
    "# Create an array if values in the range start, stop, step of dtype with numpy.arange(start, stop, step, dtype)\n",
    "# Very similar to range except that it returns and ndarray\n",
    "arange_float_array = np.arange(1, 10, 2, float)\n",
    "print(arange_float_array)\n",
    "\n",
    "arange_int_array = np.arange(1, 10, 2, int)\n",
    "print(arange_int_array)\n"
   ]
  },
  {
   "attachments": {},
   "cell_type": "markdown",
   "metadata": {},
   "source": [
    "## Indexing and slicing\n",
    "\n",
    "Like we have seen for the standard compound data types, we can index and slice an ndarray.\n",
    "\n",
    "* If the array is multidimensional, you will need to specify the index or slicing for each dimension.\n",
    "\n",
    "**Remember:** Python counts from zero!!!"
   ]
  },
  {
   "cell_type": "markdown",
   "metadata": {},
   "source": [
    "An illustration of the example arrays used below and the use of slicing\n",
    "\n",
    "![NumpyArrays](numpy_arrays.png)"
   ]
  },
  {
   "cell_type": "code",
   "execution_count": 7,
   "metadata": {},
   "outputs": [
    {
     "name": "stdout",
     "output_type": "stream",
     "text": [
      "array_1D:  [1 2 3 4] (4,)\n",
      "1\n",
      "3\n",
      "4\n",
      "[2 3 4]\n"
     ]
    }
   ],
   "source": [
    "# First, in one dimension\n",
    "array_1D = np.array([1, 2, 3, 4])\n",
    "print(\"array_1D: \", array_1D, array_1D.shape)\n",
    "\n",
    "# The element with index 0\n",
    "print(array_1D[0])\n",
    "\n",
    "# The element with index 2\n",
    "print(array_1D[2])\n",
    "\n",
    "# The last element (index -1)\n",
    "print(array_1D[-1])\n",
    "\n",
    "# Elements in range 1 to 3 (remember the slicing ends at stop - 1)\n",
    "print(array_1D[1:4])"
   ]
  },
  {
   "cell_type": "code",
   "execution_count": 8,
   "metadata": {},
   "outputs": [
    {
     "name": "stdout",
     "output_type": "stream",
     "text": [
      "array_2D:  [[1 2 3]\n",
      " [4 5 6]] (2, 3)\n",
      "The element with indices (0, 0):  1\n",
      "The element with indices (0, 1):  2\n",
      "The 'last element' - in each dimension  6\n",
      "The entire first row:  [1 2 3]\n",
      "The entire second colomn:  [2 5]\n"
     ]
    }
   ],
   "source": [
    "\n",
    "# Then, in two dimensions\n",
    "array_2D = np.array([[1, 2, 3],[4, 5, 6]])\n",
    "print(\"array_2D: \", array_2D, array_2D.shape)\n",
    "\n",
    "# The element with indices (0, 0)\n",
    "print(\"The element with indices (0, 0): \", array_2D[0, 0])\n",
    "\n",
    "# The element with indices (0, 1)\n",
    "print(\"The element with indices (0, 1): \", array_2D[0, 1])\n",
    "\n",
    "# The \"last element\" - in each dimension \n",
    "print(\"The 'last element' - in each dimension \", array_2D[-1, -1])\n",
    "\n",
    "# The entire first row\n",
    "print(\"The entire first row: \", array_2D[0, :])\n",
    "\n",
    "# The entire second colomn\n",
    "print(\"The entire second colomn: \", array_2D[:, 1])\n"
   ]
  },
  {
   "cell_type": "code",
   "execution_count": 9,
   "metadata": {},
   "outputs": [
    {
     "name": "stdout",
     "output_type": "stream",
     "text": [
      "array_3D:  [[[ 1  2]\n",
      "  [ 3  4]]\n",
      "\n",
      " [[ 5  6]\n",
      "  [ 7  8]]\n",
      "\n",
      " [[ 9 10]\n",
      "  [11 12]]] (3, 2, 2)\n",
      "The element with indices (0, 0, 0):  1\n",
      "The element with indices (2, 1, 0):  11\n",
      "Slice: array  [1 5 9]\n"
     ]
    }
   ],
   "source": [
    "# Now in three dimensions\n",
    "array_3D = np.array([[[1, 2],[3, 4]],[[5, 6],[7, 8]],[[9, 10],[11, 12]]])\n",
    "print(\"array_3D: \", array_3D, array_3D.shape)\n",
    "\n",
    "# The element with indices (0, 0, 0)\n",
    "print(\"The element with indices (0, 0, 0): \", array_3D[0, 0, 0])\n",
    "\n",
    "# The element with indices (2, 1, 0)\n",
    "print(\"The element with indices (2, 1, 0): \", array_3D[2, 1, 0])\n",
    "\n",
    "# Array corresponding to slicing the array: entire first dimension, element 0 from second, element 0 from third\n",
    "print(\"Slice: array \", array_3D[:, 0, 0])\n",
    "\n",
    "# And we could continue to higher-dimensional arrays in an analogous fashion..."
   ]
  },
  {
   "attachments": {},
   "cell_type": "markdown",
   "metadata": {},
   "source": [
    "## Boolean masking and indexing\n",
    "\n",
    "You can also filter elements from an array based on a specific condition.\n",
    "We do this by using boolean masks to specify the condition.\n",
    "\n",
    "**Boolean indexing:** Allows you to create a filtered subset of an array by passing a boolean mask as an index.\n",
    "\n",
    "**Boolean mask:** Selects only those elements in the array that have  a `True` value at the corresponding index position.\n",
    "\n",
    "`subarray = array[boolean_mask]`\n",
    "\n",
    "**Note!** In boolean masks, you must use the bitwise logical operators:\n",
    "* `&`: instead of `and` keyword\n",
    "* `|`: instead of `or` keyword\n",
    "\n",
    "The difference between the `and`, `or` keywords and the `&`, `|` operators:\n",
    "* The `and`, `or` keywords gauge the truth/falseness of the entire object (that is, it treats the object as a single Boolean entity)\n",
    "* The `&`, `|` operators gauge the bits within each object"
   ]
  },
  {
   "cell_type": "code",
   "execution_count": 10,
   "metadata": {},
   "outputs": [
    {
     "name": "stdout",
     "output_type": "stream",
     "text": [
      "an_array:  [35 26 37 45 90 76 88 23 11  2] (10,)\n",
      "boolean_mask:  [ True  True  True  True  True  True  True  True False False] (10,)\n",
      "Filtered an_array:  [35 26 37 45 90 76 88 23] (8,)\n"
     ]
    }
   ],
   "source": [
    "# Our example array\n",
    "an_array = np.array([35, 26, 37, 45, 90, 76, 88, 23, 11, 2])\n",
    "print(\"an_array: \", an_array, an_array.shape)\n",
    "\n",
    "# The boolean mask = an array that contains True if the condition (here an_array > 20) is satisfied, otherwise False (here, an_array <= 20)\n",
    "boolean_mask = an_array > 20\n",
    "\n",
    "print(\"boolean_mask: \", boolean_mask, boolean_mask.shape)\n",
    "\n",
    "# Boolean indexing: That is, apply the boolean mask to create a subset of an_array\n",
    "an_array_filtered = an_array[boolean_mask]\n",
    "\n",
    "print(\"Filtered an_array: \", an_array_filtered, an_array_filtered.shape)"
   ]
  },
  {
   "cell_type": "code",
   "execution_count": 11,
   "metadata": {},
   "outputs": [
    {
     "name": "stdout",
     "output_type": "stream",
     "text": [
      "boolean_mask:  [False  True False False  True False  True  True  True  True] (10,)\n",
      "Filtered an_array:  [26 90 88 23 11  2] (6,)\n"
     ]
    }
   ],
   "source": [
    "# A more complicated mask using combined logical operators - NOTE! Need to use the bitwise logic operators: | (or) & (and)\n",
    "boolean_mask = (an_array < 30) | (an_array > 80)\n",
    "\n",
    "print(\"boolean_mask: \", boolean_mask, boolean_mask.shape)\n",
    "\n",
    "# Boolean indexing: That is, apply the boolean mask to create a subset of an_array\n",
    "an_array_filtered = an_array[boolean_mask]\n",
    "\n",
    "print(\"Filtered an_array: \", an_array_filtered, an_array_filtered.shape)"
   ]
  },
  {
   "attachments": {},
   "cell_type": "markdown",
   "metadata": {},
   "source": [
    "## Conditions and arrays\n",
    "\n",
    "The `numpy.where(<condition>, <firstarray>, <secondarray>)` function yields the expression `x` if condition is satisfied, otherwise `y`.\n",
    "\n",
    "For boolean arrays, `numpy.any` evaluates whether one or more values in an array is `True`, while `numpy.all` checks if every value is `True`."
   ]
  },
  {
   "cell_type": "code",
   "execution_count": 12,
   "metadata": {},
   "outputs": [
    {
     "name": "stdout",
     "output_type": "stream",
     "text": [
      "['verb1' 'Nanna' 'Annett' 'verb4' 'verb5' 'Viggo']\n"
     ]
    }
   ],
   "source": [
    "array1 = np.array([\"verb1\", \"verb2\", \"verb3\", \"verb4\", \"verb5\", \"verb6\"])\n",
    "array2 = np.array([\"Martin\", \"Nanna\", \"Annett\", \"Eric\", \"Amelie\", \"Viggo\"])\n",
    "condition = np.array([True, False, False, True, True, False])\n",
    "\n",
    "result = np.where(condition, array1, array2)\n",
    "print(result)"
   ]
  },
  {
   "cell_type": "code",
   "execution_count": 13,
   "metadata": {},
   "outputs": [
    {
     "name": "stdout",
     "output_type": "stream",
     "text": [
      "True\n",
      "False\n"
     ]
    }
   ],
   "source": [
    "bool_array = np.array([True, False, False, True, True])\n",
    "\n",
    "# numpy.any\n",
    "print(np.any(bool_array))\n",
    "\n",
    "\n",
    "# numpy.all \n",
    "print(np.all(bool_array))"
   ]
  },
  {
   "attachments": {},
   "cell_type": "markdown",
   "metadata": {},
   "source": [
    "## Saving and loading NumPy arrays\n",
    "\n",
    "* To save a NumPy array in NumPy file (suffix .npy), we use `numpy.save(<filename>, >array_name>)`\n",
    "* To load a NumPy array from a NumPy file, we use `numpy.load(<filename.npy>)`"
   ]
  },
  {
   "cell_type": "code",
   "execution_count": 14,
   "metadata": {},
   "outputs": [
    {
     "name": "stdout",
     "output_type": "stream",
     "text": [
      "loaded array:  [1 2 3 4 5]\n"
     ]
    }
   ],
   "source": [
    "array_to_save = np.array([1, 2, 3, 4, 5])\n",
    "np.save(\"array_to_save\", array_to_save)\n",
    "\n",
    "loaded_array = np.load(\"array_to_save.npy\")\n",
    "print(\"loaded array: \", loaded_array)"
   ]
  },
  {
   "attachments": {},
   "cell_type": "markdown",
   "metadata": {},
   "source": [
    "## Linear algebra with NumPy\n",
    "\n",
    "NumPy arrays are most often used for numerical data and linear algebra.\n",
    "There is a linear algebra module in NumPy:\n",
    "\n",
    "`numpy.linalg`\n",
    "\n",
    "It contains many different linear algebra functions. For more information, please have a look at the [Numpy linear algera manual](https://numpy.org/doc/stable/reference/routines.linalg.html)"
   ]
  },
  {
   "cell_type": "code",
   "execution_count": 15,
   "metadata": {},
   "outputs": [
    {
     "name": "stdout",
     "output_type": "stream",
     "text": [
      "Eigenvalues:  [0. 5.]\n",
      "Eigenvectors:  [[-0.89442719 -0.4472136 ]\n",
      " [ 0.4472136  -0.89442719]]\n"
     ]
    }
   ],
   "source": [
    "# As an example, numpy.linalg can perform matrix diagonalization\n",
    "matrix = np.array([[1, 2],[2, 4]])\n",
    "\n",
    "eigvalues, eigvectors = np.linalg.eig(matrix)\n",
    "print(\"Eigenvalues: \", eigvalues)\n",
    "print(\"Eigenvectors: \", eigvectors)"
   ]
  }
 ],
 "metadata": {
  "kernelspec": {
   "display_name": "bb1000_2023",
   "language": "python",
   "name": "python3"
  },
  "language_info": {
   "codemirror_mode": {
    "name": "ipython",
    "version": 3
   },
   "file_extension": ".py",
   "mimetype": "text/x-python",
   "name": "python",
   "nbconvert_exporter": "python",
   "pygments_lexer": "ipython3",
   "version": "3.9.0"
  }
 },
 "nbformat": 4,
 "nbformat_minor": 2
}