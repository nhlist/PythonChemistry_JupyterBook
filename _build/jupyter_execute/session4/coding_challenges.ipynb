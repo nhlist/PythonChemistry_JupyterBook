{
 "cells": [
  {
   "cell_type": "code",
   "execution_count": 1,
   "metadata": {},
   "outputs": [],
   "source": [
    "def run_test(func, test_cases):\n",
    "    for test_case in test_cases:\n",
    "        out = func(*test_case[:-1])\n",
    "        assert out == test_case[-1], f\"Given [{test_case[:-1]}] Expected [{test_case[-1]}], got [{out}]\"\n",
    "    print(\"Passed!\")"
   ]
  },
  {
   "attachments": {},
   "cell_type": "markdown",
   "metadata": {},
   "source": [
    "# Coding challenges\n",
    "You are now so far into the course that you can try your skills on some fun algorithmic challenges.\n",
    "Some fo the challenges are borrowed the [HackSussex Coders' Cup 2024](https://www.hacksussex.com/), but will not contain the full test set, but the test cases and expecteed results will be written out here."
   ]
  },
  {
   "attachments": {},
   "cell_type": "markdown",
   "metadata": {},
   "source": [
    "## Destination city\n",
    "You are given the nested array `paths` where a path (`path[i]`) = `[city_a_i, city_b_i]`, meaning there is a path from `city_a_i` to `city_b_i`, but not the other way. The path will form a line and no loops. Your task is to find the city in the list that does NOT have any outgoing path to another city.\n",
    "\n",
    "Example 1:\n",
    "- Input paths = [[\"London\", \"New York\"], [\"New York\",\"Lima\"], [\"Lima\",\"Sao Paulo\"]]\n",
    "- Output: \"Sao Paulo\""
   ]
  },
  {
   "cell_type": "code",
   "execution_count": 2,
   "metadata": {},
   "outputs": [],
   "source": [
    "destination_city_test_cases = [\n",
    "    ([[\"London\", \"New York\"]], \"New York\"),\n",
    "    ([[\"London\", \"New York\"], [\"New York\",\"Lima\"], [\"Lima\",\"Sao Paulo\"]], \"Sao Paulo\"),\n",
    "    ([[\"Stockholm\", \"Lund\"], [\"Linkoping\",\"Stockholm\"], [\"Gothenburg\",\"Linkoping\"]], \"Lund\"),\n",
    "]"
   ]
  },
  {
   "cell_type": "code",
   "execution_count": 3,
   "metadata": {},
   "outputs": [
    {
     "name": "stdout",
     "output_type": "stream",
     "text": [
      "Passed!\n"
     ]
    }
   ],
   "source": [
    "def destination_city(paths: list[str]) -> str:\n",
    "    _out = set()\n",
    "    _in = set()\n",
    "    for path in paths:\n",
    "        _out.add(path[0])\n",
    "        _in.add(path[1])\n",
    " \n",
    "    return list(_in.difference(_out))[0]\n",
    "\n",
    "run_test(destination_city, destination_city_test_cases)\n"
   ]
  },
  {
   "attachments": {},
   "cell_type": "markdown",
   "metadata": {},
   "source": [
    "## Check if every row and column contains all numbers\n",
    "You are given an n x n matrix (equal length on both sides). The matrix can contain the numbers from 1 ... n. Your taks is to check that each row of numbers contain all numbers 1 ... n AND the column contain all numbers 1 ... n.\n",
    "\n",
    "Example:\n",
    "- [[1,2,3],[3,1,2],[2,3,1]]\n",
    "- Output: True\n",
    "- [[1,2,3],[2,1,3],[2,3,1]]\n",
    "- Output: False"
   ]
  },
  {
   "cell_type": "code",
   "execution_count": 4,
   "metadata": {},
   "outputs": [],
   "source": [
    "check_row_test_cases = [\n",
    "    ([[1]], True),\n",
    "    ([[1,2],[2,1]], True),\n",
    "    ([[1,2,3],[3,1,2],[2,3,1]], True),\n",
    "    ([[1,2,3],[2,1,3],[2,3,1]], False),\n",
    "    ([[1,1,1],[1,2,3],[3,2,1]], False),\n",
    "]"
   ]
  },
  {
   "cell_type": "code",
   "execution_count": 5,
   "metadata": {},
   "outputs": [
    {
     "name": "stdout",
     "output_type": "stream",
     "text": [
      "Passed!\n"
     ]
    }
   ],
   "source": [
    "def check_row_and_col(matrix: list[list[int]]) -> bool:\n",
    "    n = len(matrix)\n",
    "    col_map = {}\n",
    "    for row in matrix:\n",
    "        r = list(set(row))\n",
    "        if len(r) != n:\n",
    "            return False\n",
    "        for j, c in enumerate(row):\n",
    "            if j not in col_map:\n",
    "                col_map[j] = set()\n",
    "            col_map[j].add(c)\n",
    "    \n",
    "    for col in col_map.values():\n",
    "        r = list(set(col))\n",
    "        if len(r) != n:\n",
    "            return False\n",
    "    \n",
    "    return True\n",
    "\n",
    "run_test(check_row_and_col, check_row_test_cases)"
   ]
  },
  {
   "attachments": {},
   "cell_type": "markdown",
   "metadata": {},
   "source": [
    "## Check if one string swap can make strings equal\n",
    "You are given two strings, `s1` and `s2` of equal length. A string swap is an operation where you chose 2 indices (or letters) and swap these.\n",
    "\n",
    "If it is possible to make the two strings (`s1` and `s2`) identical by performing only a single swap operations, return True, otherwise, returl False.\n",
    "\n",
    "Example:\n",
    "- s1 = \"bank\", s2 = \"kanb\"\n",
    "- output: True\n",
    "- s1 = \"yes\", s2 = \"sye\"\n",
    "- output: False"
   ]
  },
  {
   "cell_type": "code",
   "execution_count": 6,
   "metadata": {},
   "outputs": [],
   "source": [
    "string_swap_test_cases = [\n",
    "    (\"bank\", \"kanb\", True),\n",
    "    (\"ok\", \"ko\", True),\n",
    "    (\"yo\", \"no\", False),\n",
    "    (\"python\", \"c-sharp\", False),\n",
    "    (\"python\", \"ypthon\", True),\n",
    "    (\"python\", \"thonyp\", False),\n",
    "    (\"python\", \"thonpy\", False),\n",
    "]"
   ]
  },
  {
   "cell_type": "code",
   "execution_count": 7,
   "metadata": {},
   "outputs": [
    {
     "name": "stdout",
     "output_type": "stream",
     "text": [
      "Passed!\n"
     ]
    }
   ],
   "source": [
    "def string_swap(s1: str, s2: str) -> bool:\n",
    "    for i in range(len(s1)):\n",
    "        for j in range(len(s2)):\n",
    "            new_word = list(s2)\n",
    "            new_word[i] = s2[j]\n",
    "            new_word[j] = s2[i]\n",
    "            new_word = \"\".join(new_word)\n",
    "            if new_word == s1:\n",
    "                return True\n",
    "            \n",
    "    return False\n",
    "\n",
    "run_test(string_swap, string_swap_test_cases)\n"
   ]
  },
  {
   "cell_type": "markdown",
   "metadata": {},
   "source": [
    "## Are two words anagrams of each other\n",
    "You are given two words, `word1` and `word2`. You need to check if these are Anagrams of each other, meaning two words where re-aranging the letters could make the other letter. White spaces are not counted.\n",
    "\n",
    "\n",
    "Like in Harry Potter, _I am Lord Voldemort_ is an anagram of the character's birth name, _Tom Marvolo Riddle_."
   ]
  },
  {
   "cell_type": "code",
   "execution_count": 8,
   "metadata": {},
   "outputs": [],
   "source": [
    "anagram_test_cases = [\n",
    "    (\"ok\", \"ko\", True),\n",
    "    (\"yo\", \"no\", False),\n",
    "    (\"uob\", \"bou\", True),\n",
    "    (\"I am Lord Voldemort\", \"Tom Marvolo Riddle\", True),\n",
    "    (\"Dormitory\", \"Dirty Room\", True),\n",
    "    (\"Eleven plus two\", \"Twelve plus one\", True),\n",
    "    (\"Python\", \"Java\", False),\n",
    "]"
   ]
  },
  {
   "cell_type": "code",
   "execution_count": 9,
   "metadata": {},
   "outputs": [
    {
     "name": "stdout",
     "output_type": "stream",
     "text": [
      "Passed!\n"
     ]
    }
   ],
   "source": [
    "def are_anagrams(word1, word2):\n",
    "\n",
    "    # Remove any spaces and convert both words to lowercase\n",
    "    word1 = word1.replace(\" \", \"\").lower()\n",
    "    word2 = word2.replace(\" \", \"\").lower()\n",
    "    \n",
    "    # Check if the sorted characters of both words are the same\n",
    "    return sorted(word1) == sorted(word2)\n",
    "\n",
    "run_test(are_anagrams, anagram_test_cases)\n"
   ]
  }
 ],
 "metadata": {
  "kernelspec": {
   "display_name": "bb1000",
   "language": "python",
   "name": "python3"
  },
  "language_info": {
   "codemirror_mode": {
    "name": "ipython",
    "version": 3
   },
   "file_extension": ".py",
   "mimetype": "text/x-python",
   "name": "python",
   "nbconvert_exporter": "python",
   "pygments_lexer": "ipython3",
   "version": "3.9.0"
  }
 },
 "nbformat": 4,
 "nbformat_minor": 2
}